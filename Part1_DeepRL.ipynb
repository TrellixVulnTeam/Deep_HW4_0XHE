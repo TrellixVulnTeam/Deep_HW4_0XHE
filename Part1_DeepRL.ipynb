{
 "cells": [
  {
   "cell_type": "markdown",
   "metadata": {},
   "source": [
    "\n",
    "$ \\newcommand{\\mat}[1]{\\boldsymbol {#1}} $\n",
    "$ \\newcommand{\\mattr}[1]{\\boldsymbol {#1}^\\top}$\n",
    "$ \\newcommand{\\matinv}[1]{\\boldsymbol {#1}^{-1}} $\n",
    "$ \\newcommand{\\vec}[1]{\\boldsymbol {#1}} $\n",
    "$ \\newcommand{\\vectr}[1]{\\boldsymbol {#1}^\\top} $\n",
    "$ \\newcommand{\\rvar}[1]{\\mathrm {#1}} $\n",
    "$ \\newcommand{\\rvec}[1]{\\boldsymbol{\\mathrm{#1}}} $\n",
    "$ \\newcommand{\\diag}{\\mathop{\\mathrm {diag}}} $\n",
    "$ \\newcommand{\\set}[1]{\\mathbb {#1}} $\n",
    "$ \\newcommand{\\cset}[1]{\\mathcal{#1}} $\n",
    "$ \\newcommand{\\norm}[1]{\\left\\lVert#1\\right\\rVert} $\n",
    "$ \\newcommand{\\pderiv}[2]{\\frac{\\partial #1}{\\partial #2}} $\n",
    "$ \\newcommand{\\bb}[1]{\\boldsymbol{#1}} $\n",
    "$ \\newcommand{\\E}[2][]{\\mathbb{E}_{#1}\\left[#2\\right]} $\n",
    "$ \\newcommand{\\ip}[3]{\\left<#1,#2\\right>_{#3}} $\n",
    "$ \\newcommand{\\given}[]{\\,\\middle\\vert\\,} $\n",
    "$ \\newcommand{\\DKL}[2]{\\cset{D}_{\\text{KL}}\\left(#1\\,\\Vert\\, #2\\right)} $\n",
    "$ \\newcommand{\\grad}[]{\\nabla} $\n",
    "\n",
    "# Part 1: Deep Reinforcement Learning\n",
    "<a id=part1></a>"
   ]
  },
  {
   "cell_type": "markdown",
   "metadata": {},
   "source": [
    "In the tutorial we have seen value-based reinforcement learning, in which we learn to approximate the action-value function $q(s,a)$.\n",
    "\n",
    "In this exercise we'll explore a different approach, directly learning the agent's policy distribution, $\\pi(a|s)$\n",
    "by using *policy gradients*, in order to safely land on the moon!"
   ]
  },
  {
   "cell_type": "code",
   "execution_count": 1,
   "metadata": {
    "execution": {
     "iopub.execute_input": "2022-01-18T10:22:18.810358Z",
     "iopub.status.busy": "2022-01-18T10:22:18.809474Z",
     "iopub.status.idle": "2022-01-18T10:22:20.600257Z",
     "shell.execute_reply": "2022-01-18T10:22:20.600712Z"
    }
   },
   "outputs": [],
   "source": [
    "%load_ext autoreload\n",
    "%autoreload 2\n",
    "%matplotlib inline\n",
    "\n",
    "import unittest\n",
    "import os\n",
    "import sys\n",
    "import pathlib\n",
    "import urllib\n",
    "import shutil\n",
    "import re\n",
    "\n",
    "import numpy as np\n",
    "import torch\n",
    "import torch.nn as nn\n",
    "import torch.optim as optim\n",
    "import matplotlib.pyplot as plt"
   ]
  },
  {
   "cell_type": "code",
   "execution_count": 2,
   "metadata": {
    "execution": {
     "iopub.execute_input": "2022-01-18T10:22:20.605298Z",
     "iopub.status.busy": "2022-01-18T10:22:20.604414Z",
     "iopub.status.idle": "2022-01-18T10:22:20.697139Z",
     "shell.execute_reply": "2022-01-18T10:22:20.697519Z"
    }
   },
   "outputs": [
    {
     "name": "stdout",
     "output_type": "stream",
     "text": [
      "Using device: cpu\n"
     ]
    }
   ],
   "source": [
    "test = unittest.TestCase()\n",
    "plt.rcParams.update({'font.size': 12})\n",
    "device = torch.device('cuda' if torch.cuda.is_available() else 'cpu')\n",
    "\n",
    "# Prefer CPU, GPU won't help much in this assignment\n",
    "device = 'cpu'\n",
    "print('Using device:', device)\n",
    "\n",
    "# Seed for deterministic tests\n",
    "SEED = 42"
   ]
  },
  {
   "cell_type": "markdown",
   "metadata": {},
   "source": [
    "Some technical notes before we begin:\n",
    "\n",
    "- This part does not require a GPU. We won't need large models, and the computation bottleneck will be the generation of episodes to train on.\n",
    "- In order to run this notebook on the server, you must prepend the `xvfb-run` command to create a virtual screen. For example,\n",
    "    - to run this notebook with `srun` do\n",
    "        ```\n",
    "        srun -c2 --gres=gpu:1 xvfb-run -a -s \"-screen 0 1440x900x24\" python main.py run-nb <filename>\n",
    "        ```\n",
    "    - To run the submission script, do\n",
    "        ```\n",
    "        srun -c2 xvfb-run -a -s \"-screen 0 1440x900x24\" python main.py prepare-submission ...\n",
    "        ```\n",
    "    - note that we have already included the `xvfb-run` command inside the `jupyter-lab.sh` script, so you can use it as usual with `srun`.\n",
    "    and so on.\n",
    "- The OpenAI `gym` library is not officially supported on windows. However it should be possible to install and run the necessary environment for this exercise. However, we cannot provide you with technical support for this. If you have trouble installing locally, we suggest running on the course server.\n",
    "- When running the `gym` environment locally (i.e. not on the course server), an interactive window should appear, showing you the gameplay. There's currently a known issue when running this through jupyter: the window may remain open and seem stuck after the episode completes. If it happens, this is OK, you can keep running the notebook and the rest of the cells wont be affected. The Window will close properly when you shut down the kernel."
   ]
  },
  {
   "cell_type": "markdown",
   "metadata": {},
   "source": [
    "## Policy gradients\n",
    "<a id=part1_1></a>"
   ]
  },
  {
   "cell_type": "markdown",
   "metadata": {},
   "source": [
    "Recall from the tutorial that we define the **policy** of an agent as the conditional distribution,\n",
    "$\n",
    "\\pi(a|s) = \\Pr(a_t=a\\vert s_t=s),\n",
    "$\n",
    "which defines how likely the agent is to take action $a$ at state $s$.\n",
    "\n",
    "Furthermore we define the action-value function,\n",
    "$ q_{\\pi}(s,a) = \\E{g_t(\\tau)|s_t = s,a_t=a,\\pi} $\n",
    "where \n",
    "$\n",
    "g_t(\\tau) = r_{t+1}+\\gamma r_{t+2} + \\dots = \\sum_{k=0}^{\\infty} \\gamma^k r_{t+1+k},\n",
    "$\n",
    "is the total discounted reward of a specific trajectory $\\tau$ from time $t$, and the expectation in $q$ is over all possible\n",
    "trajectories,\n",
    "$\\tau=\\left\\{ (s_0,a_0,r_1,s_1), \\dots (s_T,a_T,r_{T+1},s_{T+1}) \\right\\}.$"
   ]
  },
  {
   "cell_type": "markdown",
   "metadata": {},
   "source": [
    "In the tutorial we saw that we can learn a value function starting with some random function and\n",
    "updating it iteratively by using the **Bellman optimality equation**.\n",
    "Given that we have some action-value function, we can immediately create a policy based on that\n",
    "by simply selecting an action which maximize the action-value at the current state, i.e.\n",
    "$\n",
    "\\pi(a|s) =\n",
    "\\begin{cases}\n",
    "1, & a = \\arg\\max_{a'\\in\\cset{A}} q(s,a') \\\\\n",
    "0, & \\text{else}\n",
    "\\end{cases}.\n",
    "$\n",
    "This is called $q$-learning. This approach aims to obtain a policy indirectly through the action-value function.\n",
    "Yet, in most cases we don't actually care about knowing the value of particular states,\n",
    "since all we need is a good policy for our agent. \n",
    "\n",
    "Here we'll take a different approach and learn a policy distribution $\\pi(a|s)$ directly - by using **policy gradients**."
   ]
  },
  {
   "cell_type": "markdown",
   "metadata": {},
   "source": [
    "### Formalism"
   ]
  },
  {
   "cell_type": "markdown",
   "metadata": {},
   "source": [
    "We define a parametric policy, $\\pi_\\vec{\\theta}(a|s)$, and maximize total discounted reward (or minimize the negative reward):\n",
    "$\n",
    "\\mathcal{L}(\\vec{\\theta})=\\E[\\tau]{-g(\\tau)|\\pi_\\vec{\\theta}} = -\\int g(\\tau)p(\\tau|\\vec{\\theta})d\\tau,\n",
    "$\n",
    "where $p(\\tau|\\vec{\\theta})$ is the probability of a specific trajectory $\\tau$ under the policy defined by $\\vec{\\theta}$.\n"
   ]
  },
  {
   "cell_type": "markdown",
   "metadata": {},
   "source": [
    "Since we want to find the parameters $\\vec{\\theta}$ which minimize $\\mathcal{L}(\\vec{\\theta})$, we'll compute the gradient w.r.t. $\\vec{\\theta}$:\n",
    "$\n",
    "\\grad\\mathcal{L}(\\vec{\\theta}) = -\\int g(\\tau)\\grad p(\\tau|\\vec{\\theta})d\\tau.\n",
    "$\n",
    "\n",
    "Unfortunately, if we try to write $p(\\tau|\\vec{\\theta})$ explicitly,\n",
    "we find that computing it's gradient with respect to $\\vec{\\theta}$ is\n",
    "quite intractable due to a huge product of terms depending on $\\vec{\\theta}$:\n",
    "$p(\\tau|\\vec{\\theta})=p\\left(\\left\\{ (s_t,a_t,r_{t+1},s_{t+1})\\right\\}_{t\\geq0}\\given\\vec{\\theta}\\right)=p(s_0)\\prod_{t\\geq0} \\pi_{\\vec{\\theta}}(a_t|s_t)p(s_{t+1}|s_t,a_t).$"
   ]
  },
  {
   "cell_type": "markdown",
   "metadata": {},
   "source": [
    "However, by using the fact that $\\grad_{x}\\log(f(x))=\\frac{\\grad_{x}f(x)}{f(x)}$, we can convert the product into a sum:\n",
    "$\n",
    "\\begin{align}\n",
    "\\grad\\mathcal{L}(\\vec{\\theta})\n",
    "&= -\\int g(\\tau)\\grad p(\\tau|\\vec{\\theta})d\\tau\n",
    "= -\\int g(\\tau)\\frac{\\grad p(\\tau|\\vec{\\theta})}{p(\\tau|\\vec{\\theta})}p(\\tau|\\vec{\\theta})d\\tau \\\\\n",
    "&= -\\int g(\\tau)\\grad\\log\\left(p(\\tau|\\vec{\\theta})\\right)p(\\tau|\\vec{\\theta})d\\tau \\\\\n",
    "&= -\\int g(\\tau)\\grad\\log\\left( p(s_0)\\prod_{t\\geq0} \\pi_{\\vec{\\theta}}(a_t|s_t)p(s_{t+1}|s_t,a_t) \\right)\n",
    "p(\\tau|\\vec{\\theta})d\\tau \\\\\n",
    "&= -\\int g(\\tau)\\grad\\left( \\log p(s_0) + \\sum_{t\\geq0} \\log \\pi_{\\vec{\\theta}}(a_t|s_t) + \n",
    "\\sum_{t\\geq0}\\log p(s_{t+1}|s_t,a_t) \\right) p(\\tau|\\vec{\\theta})d\\tau \\\\\n",
    "&= -\\int g(\\tau)\\sum_{t\\geq0} \\grad\\log \\pi_{\\vec{\\theta}}(a_t|s_t) p(\\tau|\\vec{\\theta})d\\tau \\\\\n",
    "&= \\E[\\tau]{-g(\\tau)\\sum_{t\\geq0} \\grad\\log \\pi_{\\vec{\\theta}}(a_t|s_t)}.\n",
    "\\end{align}\n",
    "$"
   ]
  },
  {
   "cell_type": "markdown",
   "metadata": {},
   "source": [
    "This is the \"vanilla\" version of the policy gradient. We can interpret is as a weighted log-likelihood function.\n",
    "The log-policy is the log-likelihood term we wish to maximize and the total discounted reward acts as a weight: high-return positive\n",
    "trajectories will cause the probability of actions taken during them to increase, and negative-return trajectories will cause the\n",
    "probabilities of actions taken to decrease.\n",
    "\n",
    "In the following figures we see three trajectories: high-return positive-reward (green), low-return positive-reward (yellow) and negative-return (red) and the action probabilities along the trajectories after the update. Credit: Sergey Levine.\n",
    "\n",
    "|<strong></strong>||\n",
    "|-----| ----|\n",
    "|<img src=\"imgs/pg1.png\" height=\"200\">|<img src=\"imgs/pg2.png\" height=\"200\">|\n"
   ]
  },
  {
   "cell_type": "markdown",
   "metadata": {},
   "source": [
    "The major drawback of the policy-gradient is it's high variance, which causes erratic optimization behavior and therefore slow convergence.\n",
    "One reason for this is that the log-policy weight term, $g(\\tau)$ can vary wildly between different trajectories, even if they're similar in\n",
    "actions. Later on we'll implement the loss and explore some methods of variance reduction."
   ]
  },
  {
   "cell_type": "markdown",
   "metadata": {},
   "source": [
    "### Landing on the moon with policy gradients"
   ]
  },
  {
   "cell_type": "markdown",
   "metadata": {},
   "source": [
    "In the spirit of the recent achievements of the Israeli space industry,\n",
    "we'll apply our reinforcement learning skills to solve a simple game called **LunarLander**.\n",
    "\n",
    "This game is available as an `environment` in OpenAI `gym`.\n",
    "\n",
    "<video loop autoplay src=\"http://gym.openai.com/videos/2019-04-06--My9IiAbqha/LunarLander-v2/original.mp4\" />"
   ]
  },
  {
   "cell_type": "markdown",
   "metadata": {},
   "source": [
    "In this environment, you need to control the lander and get it to land safely on the moon.\n",
    "To do so, you must apply bottom, right or left thrusters (each are either fully on or fully off)\n",
    "and get it to land within the designated zone as quickly as possible and with minimal wasted fuel."
   ]
  },
  {
   "cell_type": "code",
   "execution_count": 3,
   "metadata": {
    "execution": {
     "iopub.execute_input": "2022-01-18T10:22:20.702860Z",
     "iopub.status.busy": "2022-01-18T10:22:20.701768Z",
     "iopub.status.idle": "2022-01-18T10:22:21.015693Z",
     "shell.execute_reply": "2022-01-18T10:22:21.016185Z"
    }
   },
   "outputs": [
    {
     "name": "stderr",
     "output_type": "stream",
     "text": [
      "\n"
     ]
    }
   ],
   "source": [
    "import gym\n",
    "\n",
    "# Just for fun :) ... but also to re-define the default max number of steps\n",
    "ENV_NAME = 'Beresheet-v2'\n",
    "MAX_EPISODE_STEPS = 300\n",
    "if ENV_NAME not in gym.envs.registry.env_specs:\n",
    "    gym.register(\n",
    "        id=ENV_NAME,\n",
    "        entry_point='gym.envs.box2d:LunarLander',\n",
    "        max_episode_steps=MAX_EPISODE_STEPS,\n",
    "        reward_threshold=200,\n",
    "    )"
   ]
  },
  {
   "cell_type": "code",
   "execution_count": 4,
   "metadata": {
    "execution": {
     "iopub.execute_input": "2022-01-18T10:22:21.020846Z",
     "iopub.status.busy": "2022-01-18T10:22:21.019674Z",
     "iopub.status.idle": "2022-01-18T10:22:21.056682Z",
     "shell.execute_reply": "2022-01-18T10:22:21.057077Z"
    }
   },
   "outputs": [
    {
     "name": "stdout",
     "output_type": "stream",
     "text": [
      "<TimeLimit<OrderEnforcing<LunarLander<Beresheet-v2>>>>\n",
      "observations space: Box(-inf, inf, (8,), float32)\n",
      "action space: Discrete(4)\n"
     ]
    }
   ],
   "source": [
    "import gym\n",
    "\n",
    "env = gym.make(ENV_NAME)\n",
    "\n",
    "print(env)\n",
    "print(f'observations space: {env.observation_space}')\n",
    "print(f'action space: {env.action_space}')\n",
    "\n",
    "ENV_N_ACTIONS = env.action_space.n\n",
    "ENV_N_OBSERVATIONS = env.observation_space.shape[0]"
   ]
  },
  {
   "cell_type": "markdown",
   "metadata": {},
   "source": [
    "The observations at each step is the Lander's position, velocity, angle, angular velocity and ground contact state.\n",
    "The actions are no-op, fire left truster, bottom thruster and right thruster.\n",
    "\n",
    "You are **highly encouraged** to read the [documentation](https://github.com/openai/gym/blob/master/gym/envs/box2d/lunar_lander.py) in the source code of the `LunarLander` environment to understand the reward system,\n",
    "and see how the actions and observations are created."
   ]
  },
  {
   "cell_type": "markdown",
   "metadata": {},
   "source": [
    "### Policy network and Agent"
   ]
  },
  {
   "cell_type": "markdown",
   "metadata": {},
   "source": [
    "Let's start with our policy-model. This will be a simple neural net, which should take an observation and return a score for each possible action."
   ]
  },
  {
   "cell_type": "markdown",
   "metadata": {},
   "source": [
    "**TODO**:\n",
    "1. Implement all methods in the `PolicyNet` class in the `hw4/rl_pg.py` module.\n",
    "   Start small. A simple MLP with a few hidden layers is a good starting point. You can come back and change it later based on the the experiments.  \n",
    "   Notice that we'll use the `build_for_env` method to instantiate a `PolicyNet` based on the configuration of a given environment.\n",
    "2. If you need hyperparameters to configure your model (e.g. number of hidden layers, sizes, etc.), add them in `part1_pg_hyperparams()` in `hw4/answers.py`."
   ]
  },
  {
   "cell_type": "code",
   "execution_count": 5,
   "metadata": {
    "execution": {
     "iopub.execute_input": "2022-01-18T10:22:21.061472Z",
     "iopub.status.busy": "2022-01-18T10:22:21.060666Z",
     "iopub.status.idle": "2022-01-18T10:22:21.092086Z",
     "shell.execute_reply": "2022-01-18T10:22:21.092458Z"
    }
   },
   "outputs": [
    {
     "data": {
      "text/plain": "PolicyNet(\n  (model): Sequential(\n    (0): Linear(in_features=8, out_features=4, bias=True)\n    (1): ReLU()\n    (2): Linear(in_features=4, out_features=4, bias=True)\n    (3): ReLU()\n    (4): Linear(in_features=4, out_features=4, bias=True)\n    (5): ReLU()\n    (6): Linear(in_features=4, out_features=4, bias=True)\n  )\n)"
     },
     "execution_count": 5,
     "metadata": {},
     "output_type": "execute_result"
    }
   ],
   "source": [
    "import hw4.rl_pg as hw4pg\n",
    "import hw4.answers\n",
    "\n",
    "hp = hw4.answers.part1_pg_hyperparams()\n",
    "\n",
    "# You can add keyword-args to this function which will be populated from the\n",
    "# hyperparameters dict.\n",
    "p_net = hw4pg.PolicyNet.build_for_env(env, device, **hp)\n",
    "p_net"
   ]
  },
  {
   "cell_type": "markdown",
   "metadata": {},
   "source": [
    "Now we need an **agent**. The purpose of our agent will be to act according to the current policy and generate experiences.\n",
    "Our `PolicyAgent` will use a `PolicyNet` as the current policy function.\n",
    "\n",
    "\n",
    "We'll also define some extra datatypes to help us represent the data generated by our agent.\n",
    "You can find the `Experience`, `Episode` and `TrainBatch` datatypes in the `hw4/rl_data.py` module."
   ]
  },
  {
   "cell_type": "markdown",
   "metadata": {},
   "source": [
    "**TODO**: Implement the `current_action_distribution()` method of the `PolicyAgent` class in the `hw4/rl_pg.py` module."
   ]
  },
  {
   "cell_type": "code",
   "execution_count": 6,
   "metadata": {
    "execution": {
     "iopub.execute_input": "2022-01-18T10:22:21.097161Z",
     "iopub.status.busy": "2022-01-18T10:22:21.096317Z",
     "iopub.status.idle": "2022-01-18T10:22:21.128327Z",
     "shell.execute_reply": "2022-01-18T10:22:21.129175Z"
    }
   },
   "outputs": [
    {
     "name": "stdout",
     "output_type": "stream",
     "text": [
      "tensor([0.1840, 0.4452, 0.1271, 0.2437], grad_fn=<SoftmaxBackward0>)\n"
     ]
    }
   ],
   "source": [
    "for i in range (10):\n",
    "    agent = hw4pg.PolicyAgent(env, p_net, device)\n",
    "    d = agent.current_action_distribution()\n",
    "    \n",
    "    test.assertSequenceEqual(d.shape, (env.action_space.n,))\n",
    "    test.assertAlmostEqual(d.sum(), 1.0, delta=1e-5)\n",
    "    \n",
    "print(d)"
   ]
  },
  {
   "cell_type": "markdown",
   "metadata": {},
   "source": [
    "**TODO**: Implement the `step()` method of the `PolicyAgent`."
   ]
  },
  {
   "cell_type": "code",
   "execution_count": 7,
   "metadata": {
    "execution": {
     "iopub.execute_input": "2022-01-18T10:22:21.133099Z",
     "iopub.status.busy": "2022-01-18T10:22:21.131776Z",
     "iopub.status.idle": "2022-01-18T10:22:21.169041Z",
     "shell.execute_reply": "2022-01-18T10:22:21.169917Z"
    }
   },
   "outputs": [
    {
     "name": "stdout",
     "output_type": "stream",
     "text": [
      "Experience(state=tensor([-0.0077,  1.3904, -0.3816, -0.4693,  0.0067,  0.0430,  0.0000,  0.0000]), action=3, reward=-0.36579950579772347, is_done=False)\n"
     ]
    }
   ],
   "source": [
    "agent = hw4pg.PolicyAgent(env, p_net, device)\n",
    "exp = agent.step()\n",
    "\n",
    "test.assertIsInstance(exp, hw4pg.Experience)\n",
    "print(exp)"
   ]
  },
  {
   "cell_type": "markdown",
   "metadata": {},
   "source": [
    "To test our agent, we'll write some code that allows it to play an environment. We'll use the `Monitor`\n",
    "wrapper in `gym` to generate a video of the episode for visual debugging."
   ]
  },
  {
   "cell_type": "markdown",
   "metadata": {},
   "source": [
    "**TODO**: Complete the implementation of the `monitor_episode()` method of the `PolicyAgent`."
   ]
  },
  {
   "cell_type": "code",
   "execution_count": 8,
   "metadata": {
    "execution": {
     "iopub.execute_input": "2022-01-18T10:22:21.173942Z",
     "iopub.status.busy": "2022-01-18T10:22:21.172711Z",
     "iopub.status.idle": "2022-01-18T10:22:23.646236Z",
     "shell.execute_reply": "2022-01-18T10:22:23.646649Z"
    }
   },
   "outputs": [],
   "source": [
    "env, n_steps, reward = agent.monitor_episode(ENV_NAME, p_net, device=device)"
   ]
  },
  {
   "cell_type": "markdown",
   "metadata": {},
   "source": [
    "To display the Monitor video in this notebook, we'll use a helper function from our `jupyter_utils` and a small wrapper that extracts the path of the last video file. "
   ]
  },
  {
   "cell_type": "code",
   "execution_count": 9,
   "metadata": {
    "execution": {
     "iopub.execute_input": "2022-01-18T10:22:23.652450Z",
     "iopub.status.busy": "2022-01-18T10:22:23.651284Z",
     "iopub.status.idle": "2022-01-18T10:22:23.680660Z",
     "shell.execute_reply": "2022-01-18T10:22:23.681083Z"
    }
   },
   "outputs": [],
   "source": [
    "import cs236781.jupyter_utils as jupyter_utils\n",
    "\n",
    "def show_monitor_video(monitor_env, idx=0, **kw):\n",
    "    # Extract video path\n",
    "    video_path = monitor_env.videos[idx][0]\n",
    "    video_path = os.path.relpath(video_path, start=os.path.curdir)\n",
    "    \n",
    "    # Use helper function to embed the video\n",
    "    return jupyter_utils.show_video_in_notebook(video_path, **kw)"
   ]
  },
  {
   "cell_type": "code",
   "execution_count": 10,
   "metadata": {
    "execution": {
     "iopub.execute_input": "2022-01-18T10:22:23.684996Z",
     "iopub.status.busy": "2022-01-18T10:22:23.684152Z",
     "iopub.status.idle": "2022-01-18T10:22:23.707928Z",
     "shell.execute_reply": "2022-01-18T10:22:23.708337Z"
    }
   },
   "outputs": [
    {
     "name": "stdout",
     "output_type": "stream",
     "text": [
      "Episode ran for 73 steps. Total reward: -242.02\n"
     ]
    },
    {
     "data": {
      "text/plain": "<IPython.core.display.HTML object>",
      "text/html": "<video src=\"data:video/mp4;base64,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\" controls autoplay width=\"500\" height=\"auto\" />"
     },
     "execution_count": 10,
     "metadata": {},
     "output_type": "execute_result"
    }
   ],
   "source": [
    "print(f'Episode ran for {n_steps} steps. Total reward: {reward:.2f}')\n",
    "\n",
    "show_monitor_video(env, idx=0)"
   ]
  },
  {
   "cell_type": "markdown",
   "metadata": {},
   "source": [
    "### Training data"
   ]
  },
  {
   "cell_type": "markdown",
   "metadata": {},
   "source": [
    "The next step is to create data to train on.\n",
    "We need to train on batches of state-action pairs, so that our network can learn to predict the actions.\n",
    "\n",
    "We'll split this task into three parts:\n",
    "1. Generate a batch of `Episode`s, by using an `Agent` that's playing according to our current policy network.\n",
    "   Each `Episode` object contains the `Experience` objects created by the agent.\n",
    "2. Calculate the total discounted reward for each state we encountered and action we took. This is our action-value estimate.\n",
    "3. Convert the `Episode`s into a batch of tensors to train on.\n",
    "   Each batch will contain states, action taken per state, reward accrued, and the calculated estimated state-values.\n",
    "   These will be stored in a `TrainBatch` object.\n"
   ]
  },
  {
   "cell_type": "markdown",
   "metadata": {},
   "source": [
    "**TODO**: Complete the implementation of the `episode_batch_generator()` method in the `TrainBatchDataset` class within the `hw4.rl_data` module. This will address part 1 in the list above."
   ]
  },
  {
   "cell_type": "code",
   "execution_count": 11,
   "metadata": {
    "execution": {
     "iopub.execute_input": "2022-01-18T10:22:23.714137Z",
     "iopub.status.busy": "2022-01-18T10:22:23.713337Z",
     "iopub.status.idle": "2022-01-18T10:22:24.214955Z",
     "shell.execute_reply": "2022-01-18T10:22:24.215460Z"
    }
   },
   "outputs": [
    {
     "name": "stdout",
     "output_type": "stream",
     "text": [
      "First episode: Episode(total_reward=-133.12, #experences=62)\n"
     ]
    }
   ],
   "source": [
    "import hw4.rl_data as hw4data\n",
    "\n",
    "def agent_fn():\n",
    "    env = gym.make(ENV_NAME)\n",
    "    hp = hw4.answers.part1_pg_hyperparams()\n",
    "    p_net = hw4pg.PolicyNet.build_for_env(env, device, **hp)\n",
    "    return hw4pg.PolicyAgent(env, p_net, device)\n",
    "    \n",
    "ds = hw4data.TrainBatchDataset(agent_fn, episode_batch_size=8, gamma=0.9)\n",
    "batch_gen = ds.episode_batch_generator()\n",
    "b = next(batch_gen)\n",
    "print('First episode:', b[0])\n",
    "\n",
    "test.assertEqual(len(b), 8)\n",
    "for ep in b:\n",
    "    test.assertIsInstance(ep, hw4data.Episode)\n",
    "    \n",
    "    # Check that it's a full episode\n",
    "    is_done = [exp.is_done for exp in ep.experiences]\n",
    "    test.assertFalse(any(is_done[0:-1]))\n",
    "    test.assertTrue(is_done[-1])"
   ]
  },
  {
   "cell_type": "markdown",
   "metadata": {},
   "source": [
    "**TODO**: Complete the implementation of the `calc_qvals()` method in the `Episode` class.\n",
    "This will address part 2.\n",
    "These q-values are an estimate of the actual action value function: $$\\hat{q}_{t} = \\sum_{t'\\geq t} \\gamma^{t'-t}r_{t'+1}.$$"
   ]
  },
  {
   "cell_type": "code",
   "execution_count": 12,
   "metadata": {
    "execution": {
     "iopub.execute_input": "2022-01-18T10:22:24.218948Z",
     "iopub.status.busy": "2022-01-18T10:22:24.218130Z",
     "iopub.status.idle": "2022-01-18T10:22:24.258907Z",
     "shell.execute_reply": "2022-01-18T10:22:24.259363Z"
    }
   },
   "outputs": [],
   "source": [
    "np.random.seed(SEED)\n",
    "test_rewards = np.random.randint(-10, 10, 100)\n",
    "test_experiences = [hw4pg.Experience(None,None,r,False) for r in test_rewards] \n",
    "test_episode = hw4data.Episode(np.sum(test_rewards), test_experiences)\n",
    "\n",
    "qvals = test_episode.calc_qvals(0.9)\n",
    "qvals = list(qvals)\n",
    "\n",
    "expected_qvals = np.load(os.path.join('tests', 'assets', 'part1_expected_qvals.npy'))\n",
    "for i in range(len(test_rewards)):\n",
    "    test.assertAlmostEqual(expected_qvals[i], qvals[i], delta=1e-3)"
   ]
  },
  {
   "cell_type": "markdown",
   "metadata": {},
   "source": [
    "**TODO**: Complete the implementation of the `from_episodes()` method in the `TrainBatch` class.\n",
    "This will address part 3.\n",
    "\n",
    "Notes:\n",
    "- The `TrainBatchDataset` class provides a generator function that will use the above function to lazily generate batches of training samples and labels on demand.\n",
    "- This allows us to use a standard `PyTorch` dataloader to wrap our Dataset and provide us with parallel data loading for free!\n",
    "  This means we can run multiple environments with multiple agents in separate background processes to generate data for training and thus prevent the data loading bottleneck which is caused by the fact that we must generate full Episodes to train on in order to calculate the q-values.\n",
    "- We'll set the `DataLoader`'s `batch_size` to `None` because we have already implemented custom batching in our dataset.\n",
    "- You can choose the number of worker processes generating data using the `num_workers` parameter in the hyperparams dict. Set `num_workers=0` to disable parallelization."
   ]
  },
  {
   "cell_type": "code",
   "execution_count": 29,
   "metadata": {
    "execution": {
     "iopub.execute_input": "2022-01-18T10:22:24.262619Z",
     "iopub.status.busy": "2022-01-18T10:22:24.261799Z",
     "iopub.status.idle": "2022-01-18T10:22:26.132363Z",
     "shell.execute_reply": "2022-01-18T10:22:26.132818Z"
    }
   },
   "outputs": [
    {
     "name": "stdout",
     "output_type": "stream",
     "text": [
      "#0: TrainBatch(states: torch.Size([744, 8]), actions: torch.Size([744]), q_vals: torch.Size([744])), num_episodes: 744)\n",
      "\n",
      "#1: TrainBatch(states: torch.Size([620, 8]), actions: torch.Size([620]), q_vals: torch.Size([620])), num_episodes: 620)\n",
      "\n",
      "#2: TrainBatch(states: torch.Size([760, 8]), actions: torch.Size([760]), q_vals: torch.Size([760])), num_episodes: 760)\n",
      "\n"
     ]
    }
   ],
   "source": [
    "from torch.utils.data import DataLoader\n",
    "\n",
    "hp = hw4.answers.part1_pg_hyperparams()\n",
    "\n",
    "ds = hw4data.TrainBatchDataset(agent_fn, episode_batch_size=8, gamma=0.9)\n",
    "dl = DataLoader(\n",
    "    ds,\n",
    "    batch_size=None,\n",
    "    num_workers=hp['num_workers'],\n",
    "    multiprocessing_context='fork' if hp['num_workers'] > 0 else None\n",
    ")\n",
    "\n",
    "\n",
    "for i, train_batch in enumerate(dl):\n",
    "    states, actions, qvals, reward_mean = train_batch\n",
    "    print(f'#{i}: {train_batch}', end=\"\\n\\n\")\n",
    "    test.assertEqual(states.shape[0], actions.shape[0])\n",
    "    test.assertEqual(qvals.shape[0], actions.shape[0])\n",
    "    test.assertEqual(states.shape[1], env.observation_space.shape[0])\n",
    "    if i > 1:\n",
    "        break"
   ]
  },
  {
   "cell_type": "markdown",
   "metadata": {},
   "source": [
    "### Loss functions"
   ]
  },
  {
   "cell_type": "markdown",
   "metadata": {},
   "source": [
    "As usual, we need a loss function to optimize over.\n",
    "We'll calculate three types of losses:\n",
    "1. The causal vanilla policy gradient loss.\n",
    "1. The policy gradient loss, with a baseline to reduce variance.\n",
    "2. An entropy-based loss whos purpose is to diversify the agent's action selection,\n",
    "   and prevent it from being \"too sure\" about its actions.\n",
    "   This loss will be used together with one of the above losses."
   ]
  },
  {
   "cell_type": "markdown",
   "metadata": {},
   "source": [
    "#### Causal vanilla policy-gradient"
   ]
  },
  {
   "cell_type": "markdown",
   "metadata": {},
   "source": [
    "We have derived the policy-gradient as\n",
    "$\n",
    "\\grad\\mathcal{L}(\\vec{\\theta}) = \\E[\\tau]{-g(\\tau)\\sum_{t\\geq0} \\grad\\log \\pi_{\\vec{\\theta}}(a_t|s_t)}.\n",
    "$\n",
    "\n",
    "By writing the discounted reward explicitly and enforcing causality, i.e. the action taken at time $t$ can't affect\n",
    "the reward at time $t'<t$, we can get a slightly lower-variance version of the policy gradient:\n",
    "\n",
    "$ \\grad\\mathcal{L}_{\\text{PG}}(\\vec{\\theta}) = \\E[\\tau]{-\\sum_{t\\geq0} \\left(\\sum_{t'\\geq t} \\gamma^{t'-t}r_{t'+1} \\right)\\grad\\log \\pi_{\\vec{\\theta}}(a_t|s_t)}. $"
   ]
  },
  {
   "cell_type": "markdown",
   "metadata": {},
   "source": [
    "In practice, the expectation over trajectories is calculated using a Monte-Carlo approach, i.e. simply sampling $N$\n",
    "trajectories and average the term inside the expectation. Therefore, we will use the following estimated version of the policy gradient:\n",
    "\n",
    "$\n",
    "\\begin{align}\n",
    "\\hat\\grad\\mathcal{L}_{\\text{PG}}(\\vec{\\theta})\n",
    "&=-\\frac{1}{N}\\sum_{i=1}^{N}\\sum_{t\\geq0} \\left(\\sum_{t'\\geq t} \\gamma^{t'-t}r_{i,t'+1} \\right)\\grad\\log \\pi_{\\vec{\\theta}}(a_{i,t}|s_{i,t}) \\\\\n",
    "&=-\\frac{1}{N}\\sum_{i=1}^{N}\\sum_{t\\geq0} \\hat{q}_{i,t} \\grad\\log \\pi_{\\vec{\\theta}}(a_{i,t}|s_{i,t}).\n",
    "\\end{align}\n",
    "$\n",
    "\n",
    "Note the use of the notation $\\hat{q}_{i,t}$ to represent the estimated action-value at time $t$ in the sampled trajectory $i$.\n",
    "Here $\\hat{q}_{i,t}$ is acting as the weight-term for the policy gradient."
   ]
  },
  {
   "cell_type": "markdown",
   "metadata": {},
   "source": [
    "**TODO**: Complete the implementation of the `VanillaPolicyGradientLoss` class in the `hw4/rl_pg.py` module."
   ]
  },
  {
   "cell_type": "code",
   "execution_count": null,
   "metadata": {
    "execution": {
     "iopub.execute_input": "2022-01-18T10:22:26.139509Z",
     "iopub.status.busy": "2022-01-18T10:22:26.138677Z",
     "iopub.status.idle": "2022-01-18T10:22:26.341624Z",
     "shell.execute_reply": "2022-01-18T10:22:26.342129Z"
    }
   },
   "outputs": [],
   "source": [
    "# Ensure deterministic run\n",
    "env = gym.make(ENV_NAME)\n",
    "env.seed(SEED)\n",
    "torch.manual_seed(SEED)\n",
    "\n",
    "def agent_fn():\n",
    "    # Use a simple \"network\" here, so that this test doesn't depend on\n",
    "    # your specific PolicyNet implementation\n",
    "    p_net_test = nn.Linear(ENV_N_OBSERVATIONS, ENV_N_ACTIONS, bias=True)\n",
    "    agent = hw4pg.PolicyAgent(env, p_net_test)\n",
    "    return agent\n",
    "\n",
    "dataloader = hw4data.TrainBatchDataset(agent_fn, gamma=0.9, episode_batch_size=4)\n",
    "\n",
    "test_batch = next(iter(dataloader))\n",
    "test_action_scores = torch.randn(len(test_batch), env.action_space.n)\n",
    "print(f\"{test_batch=}\", end='\\n\\n')\n",
    "print(f\"test_action_scores=\\n{test_action_scores}\\nshape={test_action_scores.shape}\", end='\\n\\n')\n",
    "\n",
    "loss_fn_p = hw4pg.VanillaPolicyGradientLoss()\n",
    "loss_p, _ = loss_fn_p(test_batch, test_action_scores)\n",
    "\n",
    "print(f'{loss_p=}')\n",
    "test.assertAlmostEqual(loss_p.item(), -48.560, delta=1e-2)"
   ]
  },
  {
   "cell_type": "markdown",
   "metadata": {},
   "source": [
    "#### Policy-gradient with baseline"
   ]
  },
  {
   "cell_type": "markdown",
   "metadata": {},
   "source": [
    "Another way to reduce the variance of our gradient is to use relative weighting of the log-policy instead of absolute reward values.\n",
    "$\\hat\\grad\\mathcal{L}_{\\text{BPG}}(\\vec{\\theta})=-\\frac{1}{N}\\sum_{i=1}^{N}\\sum_{t\\geq0} \\left(\\hat{q}_{i,t}-b\\right) \\grad\\log \\pi_{\\vec{\\theta}}(a_{i,t}|s_{i,t}).$\n",
    "In other words, we don't measure a trajectory's worth by it's total reward, but by how much better that total reward is relative to some\n",
    "expected (\"baseline\") reward value, denoted above by $b$.\n",
    "Note that subtracting a baseline has no effect on the expected value of the policy gradient. It's easy to prove this directly by definition.\n",
    "\n",
    "Here we'll implement a very simple baseline (not optimal in terms of variance reduction): the average of the estimated state-values $\\hat{q}_{i,t}$."
   ]
  },
  {
   "cell_type": "markdown",
   "metadata": {},
   "source": [
    "**TODO**: Complete the implementation of the `BaselinePolicyGradientLoss` class in the `hw4/rl_pg.py` module."
   ]
  },
  {
   "cell_type": "code",
   "execution_count": null,
   "metadata": {
    "execution": {
     "iopub.execute_input": "2022-01-18T10:22:26.345840Z",
     "iopub.status.busy": "2022-01-18T10:22:26.344959Z",
     "iopub.status.idle": "2022-01-18T10:22:26.385001Z",
     "shell.execute_reply": "2022-01-18T10:22:26.385550Z"
    }
   },
   "outputs": [],
   "source": [
    "# Using the same batch and action_scores from above cell\n",
    "loss_fn_p = hw4pg.BaselinePolicyGradientLoss()\n",
    "loss_p, loss_dict = loss_fn_p(test_batch, test_action_scores)\n",
    "\n",
    "print(f'{loss_dict=}')\n",
    "test.assertAlmostEqual(loss_dict['baseline'], -29.841, delta=1e-2)\n",
    "test.assertAlmostEqual(loss_p.item(), 1.297, delta=1e-2)"
   ]
  },
  {
   "cell_type": "markdown",
   "metadata": {},
   "source": [
    "#### Entropy loss"
   ]
  },
  {
   "cell_type": "markdown",
   "metadata": {},
   "source": [
    "The entropy of a probability distribution (in our case the policy), is\n",
    "$\n",
    "H(\\pi) = -\\sum_{a} \\pi(a|s)\\log\\pi(a|s).\n",
    "$\n",
    "The entropy is always positive and obtains it's maximum for a uniform distribution.\n",
    "We'll use the entropy of the policy as a bonus, i.e. we'll try to maximize it.\n",
    "The idea is the prevent the policy distribution from becoming too narrow and thus promote the agent's exploration."
   ]
  },
  {
   "cell_type": "markdown",
   "metadata": {},
   "source": [
    "First, we'll calculate the maximal possible entropy value of the action distribution for a set number of possible actions.\n",
    "This will be used as a normalization term.\n",
    "\n",
    "**TODO**: Complete the implementation of the `calc_max_entropy()` method in the `ActionEntropyLoss` class."
   ]
  },
  {
   "cell_type": "code",
   "execution_count": null,
   "metadata": {
    "execution": {
     "iopub.execute_input": "2022-01-18T10:22:26.389063Z",
     "iopub.status.busy": "2022-01-18T10:22:26.388209Z",
     "iopub.status.idle": "2022-01-18T10:22:26.423908Z",
     "shell.execute_reply": "2022-01-18T10:22:26.424415Z"
    }
   },
   "outputs": [],
   "source": [
    "loss_fn_e = hw4pg.ActionEntropyLoss(env.action_space.n)\n",
    "print('max_entropy = ', loss_fn_e.max_entropy)\n",
    "\n",
    "test.assertAlmostEqual(loss_fn_e.max_entropy, 1.38629436, delta=1e-3)"
   ]
  },
  {
   "cell_type": "markdown",
   "metadata": {},
   "source": [
    "**TODO**: Complete the implementation of the `forward()` method in the `ActionEntropyLoss` class."
   ]
  },
  {
   "cell_type": "code",
   "execution_count": null,
   "metadata": {
    "execution": {
     "iopub.execute_input": "2022-01-18T10:22:26.429185Z",
     "iopub.status.busy": "2022-01-18T10:22:26.428083Z",
     "iopub.status.idle": "2022-01-18T10:22:26.461832Z",
     "shell.execute_reply": "2022-01-18T10:22:26.462275Z"
    }
   },
   "outputs": [],
   "source": [
    "loss_e, _ = loss_fn_e(test_batch, test_action_scores)\n",
    "print('loss = ', loss_e)\n",
    "\n",
    "test.assertAlmostEqual(loss_e.item(), -0.8103, delta=1e-2)"
   ]
  },
  {
   "cell_type": "markdown",
   "metadata": {},
   "source": [
    "### Training"
   ]
  },
  {
   "cell_type": "markdown",
   "metadata": {},
   "source": [
    "We'll implement our training procedure as follows:\n",
    "\n",
    "1. Initialize the current policy to be a random policy.\n",
    "1. Sample $N$ trajectories from the environment using the current policy.\n",
    "2. Calculate the estimated $q$-values, $\\hat{q}_{i,t} = \\sum_{t'\\geq t} \\gamma^{t'}r_{i,t'+1}$ for each trajectory $i$.\n",
    "3. Calculate policy gradient estimate $\\hat\\grad\\mathcal{L}(\\vec{\\theta})$ as defined above.\n",
    "4. Perform SGD update $\\vec{\\theta}\\leftarrow\\vec{\\theta}-\\eta\\hat\\grad\\mathcal{L}(\\vec{\\theta})$.\n",
    "5. Repeat from step 2.\n",
    "\n",
    "This is known as the **REINFORCE** algorithm."
   ]
  },
  {
   "cell_type": "markdown",
   "metadata": {},
   "source": [
    "Fortunately, we've already implemented everything we need for steps 1-4 so we need only a bit more code to put it all together.\n",
    "\n",
    "The following block implements a wrapper, `train_pg` to create all the objects we need in order to train our policy gradient model.\n"
   ]
  },
  {
   "cell_type": "code",
   "execution_count": null,
   "metadata": {
    "execution": {
     "iopub.execute_input": "2022-01-18T10:22:26.465651Z",
     "iopub.status.busy": "2022-01-18T10:22:26.464805Z",
     "iopub.status.idle": "2022-01-18T10:22:26.512305Z",
     "shell.execute_reply": "2022-01-18T10:22:26.513016Z"
    }
   },
   "outputs": [],
   "source": [
    "import hw4.answers\n",
    "from functools import partial\n",
    "\n",
    "ENV_NAME = \"Beresheet-v2\"\n",
    "\n",
    "def agent_fn_train(agent_type, p_net, seed, envs_dict):\n",
    "    winfo = torch.utils.data.get_worker_info()\n",
    "    wid = winfo.id if winfo else 0\n",
    "    seed = seed + wid if seed else wid\n",
    "\n",
    "    env = gym.make(ENV_NAME)\n",
    "    envs_dict[wid] = env\n",
    "    env.seed(seed)\n",
    "    np.random.seed(seed)\n",
    "    torch.manual_seed(seed)\n",
    "\n",
    "    return agent_type(env, p_net)\n",
    "\n",
    "def train_rl(agent_type, net_type, loss_fns, hp, seed=None, checkpoints_file=None, **train_kw):\n",
    "    print(f'hyperparams: {hp}')\n",
    "    \n",
    "    envs = {}\n",
    "    p_net = net_type(ENV_N_OBSERVATIONS, ENV_N_ACTIONS, **hp)\n",
    "    p_net.share_memory()\n",
    "    agent_fn = partial(agent_fn_train, agent_type, p_net, seed, envs)\n",
    "    \n",
    "    dataset = hw4data.TrainBatchDataset(agent_fn, hp['batch_size'], hp['gamma'])\n",
    "    dataloader = DataLoader(\n",
    "        dataset, batch_size=None,\n",
    "        num_workers=hp['num_workers'],\n",
    "        multiprocessing_context='fork' if hp['num_workers'] > 0 else None\n",
    "    )\n",
    "    optimizer = optim.Adam(p_net.parameters(), lr=hp['learn_rate'], eps=hp['eps'])\n",
    "    \n",
    "    trainer = hw4pg.PolicyTrainer(p_net, optimizer, loss_fns, dataloader, checkpoints_file)\n",
    "    try:\n",
    "        trainer.train(**train_kw)\n",
    "    except KeyboardInterrupt as e:\n",
    "        print('Training interrupted by user.')\n",
    "    finally:\n",
    "        for env in envs.values():\n",
    "            env.close()\n",
    "\n",
    "    # Include final model state\n",
    "    training_data = trainer.training_data\n",
    "    training_data['model_state'] = p_net.state_dict()\n",
    "    return training_data\n",
    "    \n",
    "def train_pg(baseline=False, entropy=False, **train_kwargs):\n",
    "    hp = hw4.answers.part1_pg_hyperparams()\n",
    "    \n",
    "    loss_fns = []\n",
    "    if baseline:\n",
    "        loss_fns.append(hw4pg.BaselinePolicyGradientLoss())\n",
    "    else:\n",
    "        loss_fns.append(hw4pg.VanillaPolicyGradientLoss())\n",
    "    if entropy:\n",
    "        loss_fns.append(hw4pg.ActionEntropyLoss(ENV_N_ACTIONS, hp['beta']))\n",
    "\n",
    "    return train_rl(hw4pg.PolicyAgent, hw4pg.PolicyNet, loss_fns, hp, **train_kwargs)"
   ]
  },
  {
   "cell_type": "markdown",
   "metadata": {},
   "source": [
    "The `PolicyTrainer` class implements the training loop, collects the losses and rewards and provides some useful checkpointing functionality.\n",
    "The training loop will generate batches of episodes and train on them until either:\n",
    "- The average total reward from the last `running_mean_len` episodes is greater than the `target_reward`, OR\n",
    "- The number of generated episodes reached `max_episodes`.\n",
    "\n",
    "Most of this class is already implemented for you. "
   ]
  },
  {
   "cell_type": "markdown",
   "metadata": {},
   "source": [
    "**TODO**:\n",
    "1. Complete the training loop by implementing the `train_batch()` method of the `PolicyTrainer`.\n",
    "2. Tweak the hyperparameters in the `part1_pg_hyperparams()` function within the `hw4/answers.py` module as needed. You get some sane defaults."
   ]
  },
  {
   "cell_type": "markdown",
   "metadata": {},
   "source": [
    "Let's check whether our model is actually training.\n",
    "We'll try to reach a very low (bad) target reward, just as a sanity check to see that training works.\n",
    "Your model should be able to reach this target reward within a few batches.\n",
    "\n",
    "You can increase the target reward and use this block to manually tweak your model and hyperparameters a few times."
   ]
  },
  {
   "cell_type": "code",
   "execution_count": null,
   "metadata": {
    "execution": {
     "iopub.execute_input": "2022-01-18T10:22:26.517930Z",
     "iopub.status.busy": "2022-01-18T10:22:26.517137Z",
     "iopub.status.idle": "2022-01-18T10:22:35.261012Z",
     "shell.execute_reply": "2022-01-18T10:22:35.261399Z"
    }
   },
   "outputs": [],
   "source": [
    "target_reward = -140 # VERY LOW target\n",
    "train_data = train_pg(target_reward=target_reward, seed=SEED, max_episodes=2000, running_mean_len=10)\n",
    "\n",
    "test.assertGreater(train_data['mean_reward'][-1], target_reward)"
   ]
  },
  {
   "cell_type": "markdown",
   "metadata": {},
   "source": [
    "### Experimenting with different losses"
   ]
  },
  {
   "cell_type": "markdown",
   "metadata": {},
   "source": [
    "We'll now run a few experiments to see the effect of diferent loss functions on the training dynamics. Namely, we'll try:\n",
    "1. Vanilla PG (`vpg`): No baseline, no entropy\n",
    "2. Baseline PG (`bpg`): Baseline, no entropy loss\n",
    "3. Entropy PG (`epg`): No baseline, with entropy loss\n",
    "3. Combined PG (`cpg`): Baseline, with entropy loss"
   ]
  },
  {
   "cell_type": "code",
   "execution_count": null,
   "metadata": {
    "execution": {
     "iopub.execute_input": "2022-01-18T10:22:35.266492Z",
     "iopub.status.busy": "2022-01-18T10:22:35.265924Z",
     "iopub.status.idle": "2022-01-18T10:22:35.474289Z",
     "shell.execute_reply": "2022-01-18T10:22:35.474694Z"
    }
   },
   "outputs": [],
   "source": [
    "from collections import namedtuple\n",
    "from pprint import pprint\n",
    "import itertools as it\n",
    "\n",
    "\n",
    "ExpConfig = namedtuple('ExpConfig', ('name','baseline','entropy'))\n",
    "\n",
    "def exp_configs():\n",
    "    exp_names = ('vpg', 'epg', 'bpg', 'cpg')\n",
    "    z = zip(exp_names, it.product((False, True), (False, True)))\n",
    "    return (ExpConfig(n, b, e) for (n, (b, e)) in z)\n",
    "\n",
    "pprint(list(exp_configs()))"
   ]
  },
  {
   "cell_type": "markdown",
   "metadata": {},
   "source": [
    "We'll save the training data from each experiment for plotting."
   ]
  },
  {
   "cell_type": "code",
   "execution_count": null,
   "metadata": {
    "execution": {
     "iopub.execute_input": "2022-01-18T10:22:35.479827Z",
     "iopub.status.busy": "2022-01-18T10:22:35.478733Z",
     "iopub.status.idle": "2022-01-18T10:22:35.503254Z",
     "shell.execute_reply": "2022-01-18T10:22:35.502834Z"
    }
   },
   "outputs": [],
   "source": [
    "import pickle\n",
    "\n",
    "def dump_training_data(data, filename):\n",
    "    os.makedirs(os.path.dirname(filename), exist_ok=True)\n",
    "    with open(filename, mode='wb') as file:\n",
    "        pickle.dump(data, file)\n",
    "        \n",
    "def load_training_data(filename):\n",
    "    with open(filename, mode='rb') as file:\n",
    "        return pickle.load(file)"
   ]
  },
  {
   "cell_type": "markdown",
   "metadata": {},
   "source": [
    "Let's run the experiments! We'll run each configuration for a fixed number of episodes so that we can compare them.\n",
    "\n",
    "Notes:\n",
    "1. Until your models start working, you can decrease the number of episodes for each experiment, or only run one experiment.\n",
    "2.  The results will be saved in a file. To re-run the experiments, you can set `force_run` to `True`."
   ]
  },
  {
   "cell_type": "code",
   "execution_count": null,
   "metadata": {
    "execution": {
     "iopub.execute_input": "2022-01-18T10:22:35.508776Z",
     "iopub.status.busy": "2022-01-18T10:22:35.507513Z",
     "iopub.status.idle": "2022-01-18T10:22:35.535526Z",
     "shell.execute_reply": "2022-01-18T10:22:35.535929Z"
    }
   },
   "outputs": [],
   "source": [
    "import math\n",
    "\n",
    "exp_max_episodes = 4000\n",
    "\n",
    "results = {}\n",
    "training_data_filename = os.path.join('results', f'part1_exp.dat')\n",
    "\n",
    "# Set to True to force re-run (careful! will delete old experiment results)\n",
    "force_run = False\n",
    "\n",
    "# Skip running if results file exists.\n",
    "if os.path.isfile(training_data_filename) and not force_run:\n",
    "    print(f'=== results file {training_data_filename} exists, skipping experiments.')\n",
    "    results = load_training_data(training_data_filename)\n",
    "    \n",
    "else:\n",
    "    for n, b, e in exp_configs():\n",
    "        print(f'=== Experiment {n}')\n",
    "        results[n] = train_pg(baseline=b, entropy=e, max_episodes=exp_max_episodes, post_batch_fn=None)\n",
    "        \n",
    "    dump_training_data(results, training_data_filename)"
   ]
  },
  {
   "cell_type": "code",
   "execution_count": null,
   "metadata": {
    "execution": {
     "iopub.execute_input": "2022-01-18T10:22:35.541685Z",
     "iopub.status.busy": "2022-01-18T10:22:35.540832Z",
     "iopub.status.idle": "2022-01-18T10:22:36.402314Z",
     "shell.execute_reply": "2022-01-18T10:22:36.401870Z"
    }
   },
   "outputs": [],
   "source": [
    "def plot_experiment_results(results, fig=None):\n",
    "    if fig is None:\n",
    "        fig, _ = plt.subplots(nrows=2, ncols=2, sharex=True, figsize=(18,12))\n",
    "    for i, plot_type in enumerate(('loss_p', 'baseline', 'loss_e', 'mean_reward')):\n",
    "        ax = fig.axes[i]\n",
    "        for exp_name, exp_res in results.items():\n",
    "            if plot_type not in exp_res:\n",
    "                continue\n",
    "            ax.plot(exp_res['episode_num'], exp_res[plot_type], label=exp_name)\n",
    "        ax.set_title(plot_type)\n",
    "        ax.set_xlabel('episode')\n",
    "        ax.legend()\n",
    "    return fig\n",
    "    \n",
    "experiments_results_fig = plot_experiment_results(results)"
   ]
  },
  {
   "cell_type": "markdown",
   "metadata": {},
   "source": [
    "You should see positive training dynamics in the graphs (reward going up).\n",
    "If you don't, use them to further update your model or hyperparams.\n",
    "\n",
    "To pass the test, you'll need to get a best total mean reward of at least 10 in the fixed number of epochs using the combined loss.\n",
    "It's possible to get much higher (over 100)."
   ]
  },
  {
   "cell_type": "code",
   "execution_count": null,
   "metadata": {
    "execution": {
     "iopub.execute_input": "2022-01-18T10:22:36.405955Z",
     "iopub.status.busy": "2022-01-18T10:22:36.405452Z",
     "iopub.status.idle": "2022-01-18T10:22:36.430762Z",
     "shell.execute_reply": "2022-01-18T10:22:36.430350Z"
    }
   },
   "outputs": [],
   "source": [
    "best_cpg_mean_reward = max(results['cpg']['mean_reward'])\n",
    "print(f'Best CPG mean reward: {best_cpg_mean_reward:.2f}')\n",
    "\n",
    "test.assertGreater(best_cpg_mean_reward, 10)"
   ]
  },
  {
   "cell_type": "markdown",
   "metadata": {},
   "source": [
    "Now let's take a look at a gameplay video of our `cpg` model after the short training!"
   ]
  },
  {
   "cell_type": "code",
   "execution_count": null,
   "metadata": {
    "execution": {
     "iopub.execute_input": "2022-01-18T10:22:36.435478Z",
     "iopub.status.busy": "2022-01-18T10:22:36.434442Z",
     "iopub.status.idle": "2022-01-18T10:22:41.781602Z",
     "shell.execute_reply": "2022-01-18T10:22:41.781983Z"
    }
   },
   "outputs": [],
   "source": [
    "hp = hw4.answers.part1_pg_hyperparams()\n",
    "p_net_cpg = hw4pg.PolicyNet.build_for_env(env, **hp)\n",
    "p_net_cpg.load_state_dict(results['cpg']['model_state'])\n",
    "\n",
    "env, n_steps, reward = hw4pg.PolicyAgent.monitor_episode(ENV_NAME, p_net_cpg)\n",
    "print(f'{n_steps} steps, total reward: {reward:.2f}')\n",
    "show_monitor_video(env)"
   ]
  },
  {
   "cell_type": "markdown",
   "metadata": {},
   "source": [
    "## Advantage Actor-Critic (AAC)\n",
    "<a id=part1_2></a>"
   ]
  },
  {
   "cell_type": "markdown",
   "metadata": {},
   "source": [
    "We have seen that the policy-gradient loss can be interpreted as a log-likelihood of the policy term\n",
    "(selecting a specific action at a specific state), weighted by the future rewards of that choice of action.\n",
    "\n",
    "However, naïvely weighting by rewards has significant drawbacks in terms of the variance of the resulting gradient.\n",
    "We addressed this by adding a simple baseline term which represented our \"expected reward\" so that we increase probability of actions\n",
    "leading to trajectories which exceed this expectation and vice-versa.\n",
    "\n",
    "In this part we'll explore a more powerful baseline, which is the idea behind the AAC method."
   ]
  },
  {
   "cell_type": "markdown",
   "metadata": {},
   "source": [
    "### The advantage function"
   ]
  },
  {
   "cell_type": "markdown",
   "metadata": {},
   "source": [
    "Recall the definition of the state-value function $v_{\\pi}(s)$ and action-value function $q_{\\pi}(s,a)$:\n",
    "\n",
    "$\n",
    "\\begin{align}\n",
    "v_{\\pi}(s) &= \\E{g(\\tau)|s_0 = s,\\pi} \\\\\n",
    "q_{\\pi}(s,a) &= \\E{g(\\tau)|s_0 = s,a_0=a,\\pi}.\n",
    "\\end{align}\n",
    "$\n",
    "\n",
    "Both these functions represent the value of the state $s$. However, $v_\\pi$ averages over the first action according to the policy,\n",
    "while $q_\\pi$ fixes the first action and then continues according to the policy."
   ]
  },
  {
   "cell_type": "markdown",
   "metadata": {},
   "source": [
    "Their difference is known as the **advantage function**:\n",
    "$\n",
    "a_\\pi(s,a) = q_\\pi(s,a)-v_\\pi(s).\n",
    "$\n",
    "\n",
    "If $a_\\pi(s,a)>0$ it means that it's better (in expectation) to take action $a$ in state $s$ compared to the average action.\n",
    "In other words, $a_\\pi(s,a)$ represents the *advantage* of using action $a$ in state $s$ compared to the others."
   ]
  },
  {
   "cell_type": "markdown",
   "metadata": {},
   "source": [
    "So far we have used an estimate for $q_\\pi$ as our weighting term for the log-policy, with a fixed baseline per batch.\n",
    "\n",
    "$\\hat\\grad\\mathcal{L}_{\\text{BPG}}(\\vec{\\theta})=-\\frac{1}{N}\\sum_{i=1}^{N}\\sum_{t\\geq0} \\left(\\hat{q}_{i,t}-b\\right) \\grad\\log \\pi_{\\vec{\\theta}}(a_{i,t}|s_{i,t}).$\n"
   ]
  },
  {
   "cell_type": "markdown",
   "metadata": {},
   "source": [
    "Now, we will use the state value as a baseline, so that an estimate of the advantage function is our weighting term:\n",
    "\n",
    "$\\hat\\grad\\mathcal{L}_{\\text{AAC}}(\\vec{\\theta})=-\\frac{1}{N}\\sum_{i=1}^{N}\\sum_{t\\geq0} \\left(\\hat{q}_{i,t}-v_\\pi(s_t)\\right) \\grad\\log \\pi_{\\vec{\\theta}}(a_{i,t}|s_{i,t}).$\n",
    "\n",
    "Intuitively, using the advantage function makes sense because it means we're weighting our policy's actions according to\n",
    "how advantageous they are compared to other possible actions."
   ]
  },
  {
   "cell_type": "markdown",
   "metadata": {},
   "source": [
    "But how will we know $v_\\pi(s)$? We'll learn it of course, using another neural network.\n",
    "This is known as actor-critic learning. We simultaneously learn the policy (actor) and the value of states (critic).\n",
    "We'll treat it as a regression task: given a state $s_t$, our state-value network will output $\\hat{v}_\\pi(s_t)$,\n",
    "an estimate of the actual unknown state-value.\n",
    "Our regression targets will be the discounted rewards, $\\hat{q}_{i,t}$ (see question 2),\n",
    "and we can use a simple MSE as the loss function,\n",
    "$\\mathcal{L}_{\\text{SV}} = \\frac{1}{N}\\sum_{i=1}^{N}\\sum_{t\\geq0}\\left(\\hat{v}_\\pi(s_t) - \\hat{q}_{i,t}\\right)^2.$\n"
   ]
  },
  {
   "cell_type": "markdown",
   "metadata": {},
   "source": [
    "### Implementation"
   ]
  },
  {
   "cell_type": "markdown",
   "metadata": {},
   "source": [
    "We'll build heavily on our implementation of the regular policy-gradient method, and just add a new model class and a new loss class, with a small modification to the agent."
   ]
  },
  {
   "cell_type": "markdown",
   "metadata": {},
   "source": [
    "Let's start with the model. It will accept a state, and return action scores (as before), but also the value of that state.\n",
    "You can experiment with a dual-head network that has a shared base, or implement two separate parts within the network.\n",
    "\n",
    "**TODO**:\n",
    "1. Implement the model as the `AACPolicyNet` class in the `hw4/rl_ac.py` module.\n",
    "1. Set the hyperparameters in the `part1_aac_hyperparams()` function of the `hw4.answers` module."
   ]
  },
  {
   "cell_type": "code",
   "execution_count": null,
   "metadata": {
    "execution": {
     "iopub.execute_input": "2022-01-18T10:22:41.787450Z",
     "iopub.status.busy": "2022-01-18T10:22:41.786433Z",
     "iopub.status.idle": "2022-01-18T10:22:42.023641Z",
     "shell.execute_reply": "2022-01-18T10:22:42.024019Z"
    }
   },
   "outputs": [],
   "source": [
    "import hw4.rl_ac as hw4ac\n",
    "\n",
    "hp = hw4.answers.part1_aac_hyperparams()\n",
    "pv_net = hw4ac.AACPolicyNet.build_for_env(env, device, **hp)\n",
    "pv_net"
   ]
  },
  {
   "cell_type": "markdown",
   "metadata": {},
   "source": [
    "**TODO**: Complete the implementation of the agent class, `AACPolicyAgent`, in the `hw4/rl_ac.py` module."
   ]
  },
  {
   "cell_type": "code",
   "execution_count": null,
   "metadata": {
    "execution": {
     "iopub.execute_input": "2022-01-18T10:22:42.028246Z",
     "iopub.status.busy": "2022-01-18T10:22:42.027471Z",
     "iopub.status.idle": "2022-01-18T10:22:42.056848Z",
     "shell.execute_reply": "2022-01-18T10:22:42.056415Z"
    }
   },
   "outputs": [],
   "source": [
    "agent = hw4ac.AACPolicyAgent(env, pv_net, device)\n",
    "exp = agent.step()\n",
    "\n",
    "test.assertIsInstance(exp, hw4pg.Experience)\n",
    "print(exp)"
   ]
  },
  {
   "cell_type": "markdown",
   "metadata": {},
   "source": [
    "**TODO**: Implement the AAC loss function as the class `AACPolicyGradientLoss` in the `hw4/rl_ac.py` module."
   ]
  },
  {
   "cell_type": "code",
   "execution_count": null,
   "metadata": {
    "execution": {
     "iopub.execute_input": "2022-01-18T10:22:42.063254Z",
     "iopub.status.busy": "2022-01-18T10:22:42.062457Z",
     "iopub.status.idle": "2022-01-18T10:22:42.105992Z",
     "shell.execute_reply": "2022-01-18T10:22:42.105239Z"
    }
   },
   "outputs": [],
   "source": [
    "loss_fn_aac = hw4ac.AACPolicyGradientLoss(delta=1.)\n",
    "test_state_values = torch.ones(test_action_scores.shape[0], 1)\n",
    "loss_t, loss_dict = loss_fn_aac(test_batch, (test_action_scores, test_state_values))\n",
    "\n",
    "print(f'{loss_dict=}')\n",
    "test.assertAlmostEqual(loss_dict['adv_m'], -30.841, delta=1e-2)\n",
    "test.assertAlmostEqual(loss_t.item(), 1466.830, delta=1e-2)"
   ]
  },
  {
   "cell_type": "markdown",
   "metadata": {},
   "source": [
    "### Experimentation"
   ]
  },
  {
   "cell_type": "markdown",
   "metadata": {},
   "source": [
    "Let's run the same experiment as before, but with the AAC method and compare the results."
   ]
  },
  {
   "cell_type": "code",
   "execution_count": null,
   "metadata": {
    "execution": {
     "iopub.execute_input": "2022-01-18T10:22:42.113401Z",
     "iopub.status.busy": "2022-01-18T10:22:42.112108Z",
     "iopub.status.idle": "2022-01-18T10:22:42.154777Z",
     "shell.execute_reply": "2022-01-18T10:22:42.155936Z"
    }
   },
   "outputs": [],
   "source": [
    "def train_aac(baseline=False, entropy=False, **train_kwargs):\n",
    "    hp = hw4.answers.part1_aac_hyperparams()\n",
    "    loss_fns = [hw4ac.AACPolicyGradientLoss(hp['delta']), hw4pg.ActionEntropyLoss(ENV_N_ACTIONS, hp['beta'])]\n",
    "    return train_rl(hw4ac.AACPolicyAgent, hw4ac.AACPolicyNet, loss_fns, hp, **train_kwargs)"
   ]
  },
  {
   "cell_type": "code",
   "execution_count": null,
   "metadata": {
    "execution": {
     "iopub.execute_input": "2022-01-18T10:22:42.161332Z",
     "iopub.status.busy": "2022-01-18T10:22:42.159638Z",
     "iopub.status.idle": "2022-01-18T10:22:42.210983Z",
     "shell.execute_reply": "2022-01-18T10:22:42.212129Z"
    }
   },
   "outputs": [],
   "source": [
    "training_data_filename = os.path.join('results', f'part1_exp_aac.dat')\n",
    "\n",
    "# Set to True to force re-run (careful, will delete old experiment results)\n",
    "force_run = False\n",
    "\n",
    "if os.path.isfile(training_data_filename) and not force_run:\n",
    "    print(f'=== results file {training_data_filename} exists, skipping experiments.')\n",
    "    results_aac = load_training_data(training_data_filename)\n",
    "    \n",
    "else:\n",
    "    print(f'=== Running AAC experiment')\n",
    "    training_data = train_aac(max_episodes=exp_max_episodes)\n",
    "    results_aac = dict(aac=training_data)\n",
    "    dump_training_data(results_aac, training_data_filename)"
   ]
  },
  {
   "cell_type": "code",
   "execution_count": null,
   "metadata": {
    "execution": {
     "iopub.execute_input": "2022-01-18T10:22:42.217391Z",
     "iopub.status.busy": "2022-01-18T10:22:42.215697Z",
     "iopub.status.idle": "2022-01-18T10:22:43.074046Z",
     "shell.execute_reply": "2022-01-18T10:22:43.073627Z"
    }
   },
   "outputs": [],
   "source": [
    "experiments_results_fig = plot_experiment_results(results)\n",
    "plot_experiment_results(results_aac, fig=experiments_results_fig);"
   ]
  },
  {
   "cell_type": "markdown",
   "metadata": {},
   "source": [
    "You should get better results with the AAC method, so this time the bar is higher (again, you should aim for a mean reward of 100+).\n",
    "Compare the graphs with combined PG method and see if they make sense."
   ]
  },
  {
   "cell_type": "code",
   "execution_count": null,
   "metadata": {
    "execution": {
     "iopub.execute_input": "2022-01-18T10:22:43.077997Z",
     "iopub.status.busy": "2022-01-18T10:22:43.077122Z",
     "iopub.status.idle": "2022-01-18T10:22:43.115285Z",
     "shell.execute_reply": "2022-01-18T10:22:43.115660Z"
    }
   },
   "outputs": [],
   "source": [
    "best_aac_mean_reward = max(results_aac['aac']['mean_reward'])\n",
    "print(f'Best AAC mean reward: {best_aac_mean_reward:.2f}')\n",
    "\n",
    "test.assertGreater(best_aac_mean_reward, 50)"
   ]
  },
  {
   "cell_type": "markdown",
   "metadata": {},
   "source": [
    "### Final model training and visualization"
   ]
  },
  {
   "cell_type": "markdown",
   "metadata": {},
   "source": [
    "Now, using your best model and hyperparams, let's train model for much longer and see the performance.\n",
    "Just for fun, we'll also visualize an episode every now and then so that we can see how well the agent is playing."
   ]
  },
  {
   "cell_type": "markdown",
   "metadata": {},
   "source": [
    "**TODO**:\n",
    "- Run the following block to train.\n",
    "- Tweak model or hyperparams as necessary.\n",
    "- Aim for high mean reward, at least 150+. It's possible to get over 200.\n",
    "- When training is done and you're satisfied with the model's outputs, rename the checkpoint file by adding `_final` to the file name.\n",
    "  This will cause the block to skip training and instead load your saved model when running the homework submission script.\n",
    "  Note that your submission zip file will not include the checkpoint file. This is OK."
   ]
  },
  {
   "cell_type": "code",
   "execution_count": null,
   "metadata": {
    "execution": {
     "iopub.execute_input": "2022-01-18T10:22:43.125135Z",
     "iopub.status.busy": "2022-01-18T10:22:43.123960Z",
     "iopub.status.idle": "2022-01-18T10:22:47.363573Z",
     "shell.execute_reply": "2022-01-18T10:22:47.363958Z"
    }
   },
   "outputs": [],
   "source": [
    "import IPython.display\n",
    "\n",
    "CHECKPOINTS_FILE = f'checkpoints/{ENV_NAME}-ac.dat'\n",
    "CHECKPOINTS_FILE_FINAL = f'checkpoints/{ENV_NAME}-ac_final.dat'\n",
    "TARGET_REWARD = 125\n",
    "MAX_EPISODES = 15_000\n",
    "\n",
    "def post_batch_fn(batch_idx, p_net, batch, print_every=20, final=False):\n",
    "    if not final and batch_idx % print_every != 0:\n",
    "        return\n",
    "    env, n_steps, reward = hw4ac.AACPolicyAgent.monitor_episode(ENV_NAME, p_net)\n",
    "    html = show_monitor_video(env, width=\"500\")\n",
    "    IPython.display.clear_output(wait=True)\n",
    "    print(f'Monitor@#{batch_idx}: n_steps={n_steps}, total_reward={reward:.3f}, final={final}')\n",
    "    IPython.display.display_html(html)\n",
    "    \n",
    "    \n",
    "if os.path.isfile(CHECKPOINTS_FILE_FINAL):\n",
    "    print(f'=== {CHECKPOINTS_FILE_FINAL} exists, skipping training...')\n",
    "    checkpoint_data = torch.load(CHECKPOINTS_FILE_FINAL)\n",
    "    hp = hw4.answers.part1_aac_hyperparams()\n",
    "    pv_net = hw4ac.AACPolicyNet.build_for_env(env, **hp)\n",
    "    pv_net.load_state_dict(checkpoint_data['params'])\n",
    "    print(f'=== Running best model...')\n",
    "    env, n_steps, reward = hw4ac.AACPolicyAgent.monitor_episode(ENV_NAME, pv_net)\n",
    "    print(f'=== Best model ran for {n_steps} steps. Total reward: {reward:.2f}')\n",
    "    IPython.display.display_html(show_monitor_video(env))\n",
    "    best_mean_reward = checkpoint_data[\"best_mean_reward\"]\n",
    "else:\n",
    "    print(f'=== Starting training...')\n",
    "    train_data = train_aac(TARGET_REWARD, max_episodes=MAX_EPISODES,\n",
    "                           seed=None, checkpoints_file=CHECKPOINTS_FILE, post_batch_fn=post_batch_fn)\n",
    "    print(f'=== Done, ', end='')\n",
    "    best_mean_reward = train_data[\"best_mean_reward\"][-1]\n",
    "    print(f'num_episodes={train_data[\"episode_num\"][-1]}, best_mean_reward={best_mean_reward:.1f}')\n",
    "          \n",
    "test.assertGreaterEqual(best_mean_reward, TARGET_REWARD)"
   ]
  },
  {
   "cell_type": "markdown",
   "metadata": {
    "tags": []
   },
   "source": [
    "## Questions\n",
    "<a id=part1_3></a>"
   ]
  },
  {
   "cell_type": "markdown",
   "metadata": {},
   "source": [
    "**TODO**: Answer the following questions. Write your answers in the appropriate variables in the module `hw4/answers.py`."
   ]
  },
  {
   "cell_type": "code",
   "execution_count": null,
   "metadata": {
    "execution": {
     "iopub.execute_input": "2022-01-18T10:22:47.368956Z",
     "iopub.status.busy": "2022-01-18T10:22:47.367842Z",
     "iopub.status.idle": "2022-01-18T10:22:47.400356Z",
     "shell.execute_reply": "2022-01-18T10:22:47.399959Z"
    }
   },
   "outputs": [],
   "source": [
    "from cs236781.answers import display_answer\n",
    "import hw4.answers"
   ]
  },
  {
   "cell_type": "markdown",
   "metadata": {},
   "source": [
    "### Question 1\n",
    "\n",
    "Explain qualitatively why subtracting a baseline in the policy-gradient helps reduce it's variance.\n",
    "Specifically, give an example where it helps."
   ]
  },
  {
   "cell_type": "code",
   "execution_count": null,
   "metadata": {
    "execution": {
     "iopub.execute_input": "2022-01-18T10:22:47.404210Z",
     "iopub.status.busy": "2022-01-18T10:22:47.403430Z",
     "iopub.status.idle": "2022-01-18T10:22:47.425848Z",
     "shell.execute_reply": "2022-01-18T10:22:47.426224Z"
    }
   },
   "outputs": [],
   "source": [
    "display_answer(hw4.answers.part1_q1)"
   ]
  },
  {
   "cell_type": "markdown",
   "metadata": {},
   "source": [
    "### Question 2\n",
    "\n",
    "In AAC, when using the estimated q-values as regression targets for our state-values, why do we get a valid approximation?\n",
    "Hint: how is $v_\\pi(s)$ expressed in terms of $q_\\pi(s,a)$?"
   ]
  },
  {
   "cell_type": "code",
   "execution_count": null,
   "metadata": {
    "execution": {
     "iopub.execute_input": "2022-01-18T10:22:47.429988Z",
     "iopub.status.busy": "2022-01-18T10:22:47.429208Z",
     "iopub.status.idle": "2022-01-18T10:22:47.450702Z",
     "shell.execute_reply": "2022-01-18T10:22:47.451082Z"
    }
   },
   "outputs": [],
   "source": [
    "display_answer(hw4.answers.part1_q2)"
   ]
  },
  {
   "cell_type": "markdown",
   "metadata": {},
   "source": [
    "### Question 3\n",
    "\n",
    "1. Analyze and explain the graphs you got in first experiment run.\n",
    "2. Compare the experiment graphs you got with the AAC method to the regular PG method (`cpg`)."
   ]
  },
  {
   "cell_type": "code",
   "execution_count": null,
   "metadata": {
    "execution": {
     "iopub.execute_input": "2022-01-18T10:22:47.454864Z",
     "iopub.status.busy": "2022-01-18T10:22:47.454079Z",
     "iopub.status.idle": "2022-01-18T10:22:47.475698Z",
     "shell.execute_reply": "2022-01-18T10:22:47.476075Z"
    },
    "tags": []
   },
   "outputs": [],
   "source": [
    "display_answer(hw4.answers.part1_q3)"
   ]
  }
 ],
 "metadata": {
  "kernelspec": {
   "display_name": "Python 3 (ipykernel)",
   "language": "python",
   "name": "python3"
  },
  "language_info": {
   "codemirror_mode": {
    "name": "ipython",
    "version": 3
   },
   "file_extension": ".py",
   "mimetype": "text/x-python",
   "name": "python",
   "nbconvert_exporter": "python",
   "pygments_lexer": "ipython3",
   "version": "3.8.12"
  }
 },
 "nbformat": 4,
 "nbformat_minor": 4
}