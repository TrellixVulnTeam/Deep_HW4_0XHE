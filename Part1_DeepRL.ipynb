{
 "cells": [
  {
   "cell_type": "markdown",
   "metadata": {},
   "source": [
    "\n",
    "$ \\newcommand{\\mat}[1]{\\boldsymbol {#1}} $\n",
    "$ \\newcommand{\\mattr}[1]{\\boldsymbol {#1}^\\top}$\n",
    "$ \\newcommand{\\matinv}[1]{\\boldsymbol {#1}^{-1}} $\n",
    "$ \\newcommand{\\vec}[1]{\\boldsymbol {#1}} $\n",
    "$ \\newcommand{\\vectr}[1]{\\boldsymbol {#1}^\\top} $\n",
    "$ \\newcommand{\\rvar}[1]{\\mathrm {#1}} $\n",
    "$ \\newcommand{\\rvec}[1]{\\boldsymbol{\\mathrm{#1}}} $\n",
    "$ \\newcommand{\\diag}{\\mathop{\\mathrm {diag}}} $\n",
    "$ \\newcommand{\\set}[1]{\\mathbb {#1}} $\n",
    "$ \\newcommand{\\cset}[1]{\\mathcal{#1}} $\n",
    "$ \\newcommand{\\norm}[1]{\\left\\lVert#1\\right\\rVert} $\n",
    "$ \\newcommand{\\pderiv}[2]{\\frac{\\partial #1}{\\partial #2}} $\n",
    "$ \\newcommand{\\bb}[1]{\\boldsymbol{#1}} $\n",
    "$ \\newcommand{\\E}[2][]{\\mathbb{E}_{#1}\\left[#2\\right]} $\n",
    "$ \\newcommand{\\ip}[3]{\\left<#1,#2\\right>_{#3}} $\n",
    "$ \\newcommand{\\given}[]{\\,\\middle\\vert\\,} $\n",
    "$ \\newcommand{\\DKL}[2]{\\cset{D}_{\\text{KL}}\\left(#1\\,\\Vert\\, #2\\right)} $\n",
    "$ \\newcommand{\\grad}[]{\\nabla} $\n",
    "\n",
    "# Part 1: Deep Reinforcement Learning\n",
    "<a id=part1></a>"
   ]
  },
  {
   "cell_type": "markdown",
   "metadata": {},
   "source": [
    "In the tutorial we have seen value-based reinforcement learning, in which we learn to approximate the action-value function $q(s,a)$.\n",
    "\n",
    "In this exercise we'll explore a different approach, directly learning the agent's policy distribution, $\\pi(a|s)$\n",
    "by using *policy gradients*, in order to safely land on the moon!"
   ]
  },
  {
   "cell_type": "code",
   "execution_count": 1,
   "metadata": {
    "execution": {
     "iopub.execute_input": "2022-01-18T10:22:18.810358Z",
     "iopub.status.busy": "2022-01-18T10:22:18.809474Z",
     "iopub.status.idle": "2022-01-18T10:22:20.600257Z",
     "shell.execute_reply": "2022-01-18T10:22:20.600712Z"
    }
   },
   "outputs": [],
   "source": [
    "%load_ext autoreload\n",
    "%autoreload 2\n",
    "%matplotlib inline\n",
    "\n",
    "import unittest\n",
    "import os\n",
    "import sys\n",
    "import pathlib\n",
    "import urllib\n",
    "import shutil\n",
    "import re\n",
    "\n",
    "import numpy as np\n",
    "import torch\n",
    "import torch.nn as nn\n",
    "import torch.optim as optim\n",
    "import matplotlib.pyplot as plt"
   ]
  },
  {
   "cell_type": "code",
   "execution_count": 2,
   "metadata": {
    "execution": {
     "iopub.execute_input": "2022-01-18T10:22:20.605298Z",
     "iopub.status.busy": "2022-01-18T10:22:20.604414Z",
     "iopub.status.idle": "2022-01-18T10:22:20.697139Z",
     "shell.execute_reply": "2022-01-18T10:22:20.697519Z"
    }
   },
   "outputs": [
    {
     "name": "stdout",
     "output_type": "stream",
     "text": [
      "Using device: cpu\n"
     ]
    }
   ],
   "source": [
    "test = unittest.TestCase()\n",
    "plt.rcParams.update({'font.size': 12})\n",
    "device = torch.device('cuda' if torch.cuda.is_available() else 'cpu')\n",
    "\n",
    "# Prefer CPU, GPU won't help much in this assignment\n",
    "device = 'cpu'\n",
    "print('Using device:', device)\n",
    "\n",
    "# Seed for deterministic tests\n",
    "SEED = 42"
   ]
  },
  {
   "cell_type": "markdown",
   "metadata": {},
   "source": [
    "Some technical notes before we begin:\n",
    "\n",
    "- This part does not require a GPU. We won't need large models, and the computation bottleneck will be the generation of episodes to train on.\n",
    "- In order to run this notebook on the server, you must prepend the `xvfb-run` command to create a virtual screen. For example,\n",
    "    - to run this notebook with `srun` do\n",
    "        ```\n",
    "        srun -c2 --gres=gpu:1 xvfb-run -a -s \"-screen 0 1440x900x24\" python main.py run-nb <filename>\n",
    "        ```\n",
    "    - To run the submission script, do\n",
    "        ```\n",
    "        srun -c2 xvfb-run -a -s \"-screen 0 1440x900x24\" python main.py prepare-submission ...\n",
    "        ```\n",
    "    - note that we have already included the `xvfb-run` command inside the `jupyter-lab.sh` script, so you can use it as usual with `srun`.\n",
    "    and so on.\n",
    "- The OpenAI `gym` library is not officially supported on windows. However it should be possible to install and run the necessary environment for this exercise. However, we cannot provide you with technical support for this. If you have trouble installing locally, we suggest running on the course server.\n",
    "- When running the `gym` environment locally (i.e. not on the course server), an interactive window should appear, showing you the gameplay. There's currently a known issue when running this through jupyter: the window may remain open and seem stuck after the episode completes. If it happens, this is OK, you can keep running the notebook and the rest of the cells wont be affected. The Window will close properly when you shut down the kernel."
   ]
  },
  {
   "cell_type": "markdown",
   "metadata": {},
   "source": [
    "## Policy gradients\n",
    "<a id=part1_1></a>"
   ]
  },
  {
   "cell_type": "markdown",
   "metadata": {},
   "source": [
    "Recall from the tutorial that we define the **policy** of an agent as the conditional distribution,\n",
    "$\n",
    "\\pi(a|s) = \\Pr(a_t=a\\vert s_t=s),\n",
    "$\n",
    "which defines how likely the agent is to take action $a$ at state $s$.\n",
    "\n",
    "Furthermore we define the action-value function,\n",
    "$ q_{\\pi}(s,a) = \\E{g_t(\\tau)|s_t = s,a_t=a,\\pi} $\n",
    "where \n",
    "$\n",
    "g_t(\\tau) = r_{t+1}+\\gamma r_{t+2} + \\dots = \\sum_{k=0}^{\\infty} \\gamma^k r_{t+1+k},\n",
    "$\n",
    "is the total discounted reward of a specific trajectory $\\tau$ from time $t$, and the expectation in $q$ is over all possible\n",
    "trajectories,\n",
    "$\\tau=\\left\\{ (s_0,a_0,r_1,s_1), \\dots (s_T,a_T,r_{T+1},s_{T+1}) \\right\\}.$"
   ]
  },
  {
   "cell_type": "markdown",
   "metadata": {},
   "source": [
    "In the tutorial we saw that we can learn a value function starting with some random function and\n",
    "updating it iteratively by using the **Bellman optimality equation**.\n",
    "Given that we have some action-value function, we can immediately create a policy based on that\n",
    "by simply selecting an action which maximize the action-value at the current state, i.e.\n",
    "$\n",
    "\\pi(a|s) =\n",
    "\\begin{cases}\n",
    "1, & a = \\arg\\max_{a'\\in\\cset{A}} q(s,a') \\\\\n",
    "0, & \\text{else}\n",
    "\\end{cases}.\n",
    "$\n",
    "This is called $q$-learning. This approach aims to obtain a policy indirectly through the action-value function.\n",
    "Yet, in most cases we don't actually care about knowing the value of particular states,\n",
    "since all we need is a good policy for our agent. \n",
    "\n",
    "Here we'll take a different approach and learn a policy distribution $\\pi(a|s)$ directly - by using **policy gradients**."
   ]
  },
  {
   "cell_type": "markdown",
   "metadata": {},
   "source": [
    "### Formalism"
   ]
  },
  {
   "cell_type": "markdown",
   "metadata": {},
   "source": [
    "We define a parametric policy, $\\pi_\\vec{\\theta}(a|s)$, and maximize total discounted reward (or minimize the negative reward):\n",
    "$\n",
    "\\mathcal{L}(\\vec{\\theta})=\\E[\\tau]{-g(\\tau)|\\pi_\\vec{\\theta}} = -\\int g(\\tau)p(\\tau|\\vec{\\theta})d\\tau,\n",
    "$\n",
    "where $p(\\tau|\\vec{\\theta})$ is the probability of a specific trajectory $\\tau$ under the policy defined by $\\vec{\\theta}$.\n"
   ]
  },
  {
   "cell_type": "markdown",
   "metadata": {},
   "source": [
    "Since we want to find the parameters $\\vec{\\theta}$ which minimize $\\mathcal{L}(\\vec{\\theta})$, we'll compute the gradient w.r.t. $\\vec{\\theta}$:\n",
    "$\n",
    "\\grad\\mathcal{L}(\\vec{\\theta}) = -\\int g(\\tau)\\grad p(\\tau|\\vec{\\theta})d\\tau.\n",
    "$\n",
    "\n",
    "Unfortunately, if we try to write $p(\\tau|\\vec{\\theta})$ explicitly,\n",
    "we find that computing it's gradient with respect to $\\vec{\\theta}$ is\n",
    "quite intractable due to a huge product of terms depending on $\\vec{\\theta}$:\n",
    "$p(\\tau|\\vec{\\theta})=p\\left(\\left\\{ (s_t,a_t,r_{t+1},s_{t+1})\\right\\}_{t\\geq0}\\given\\vec{\\theta}\\right)=p(s_0)\\prod_{t\\geq0} \\pi_{\\vec{\\theta}}(a_t|s_t)p(s_{t+1}|s_t,a_t).$"
   ]
  },
  {
   "cell_type": "markdown",
   "metadata": {},
   "source": [
    "However, by using the fact that $\\grad_{x}\\log(f(x))=\\frac{\\grad_{x}f(x)}{f(x)}$, we can convert the product into a sum:\n",
    "$\n",
    "\\begin{align}\n",
    "\\grad\\mathcal{L}(\\vec{\\theta})\n",
    "&= -\\int g(\\tau)\\grad p(\\tau|\\vec{\\theta})d\\tau\n",
    "= -\\int g(\\tau)\\frac{\\grad p(\\tau|\\vec{\\theta})}{p(\\tau|\\vec{\\theta})}p(\\tau|\\vec{\\theta})d\\tau \\\\\n",
    "&= -\\int g(\\tau)\\grad\\log\\left(p(\\tau|\\vec{\\theta})\\right)p(\\tau|\\vec{\\theta})d\\tau \\\\\n",
    "&= -\\int g(\\tau)\\grad\\log\\left( p(s_0)\\prod_{t\\geq0} \\pi_{\\vec{\\theta}}(a_t|s_t)p(s_{t+1}|s_t,a_t) \\right)\n",
    "p(\\tau|\\vec{\\theta})d\\tau \\\\\n",
    "&= -\\int g(\\tau)\\grad\\left( \\log p(s_0) + \\sum_{t\\geq0} \\log \\pi_{\\vec{\\theta}}(a_t|s_t) + \n",
    "\\sum_{t\\geq0}\\log p(s_{t+1}|s_t,a_t) \\right) p(\\tau|\\vec{\\theta})d\\tau \\\\\n",
    "&= -\\int g(\\tau)\\sum_{t\\geq0} \\grad\\log \\pi_{\\vec{\\theta}}(a_t|s_t) p(\\tau|\\vec{\\theta})d\\tau \\\\\n",
    "&= \\E[\\tau]{-g(\\tau)\\sum_{t\\geq0} \\grad\\log \\pi_{\\vec{\\theta}}(a_t|s_t)}.\n",
    "\\end{align}\n",
    "$"
   ]
  },
  {
   "cell_type": "markdown",
   "metadata": {},
   "source": [
    "This is the \"vanilla\" version of the policy gradient. We can interpret is as a weighted log-likelihood function.\n",
    "The log-policy is the log-likelihood term we wish to maximize and the total discounted reward acts as a weight: high-return positive\n",
    "trajectories will cause the probability of actions taken during them to increase, and negative-return trajectories will cause the\n",
    "probabilities of actions taken to decrease.\n",
    "\n",
    "In the following figures we see three trajectories: high-return positive-reward (green), low-return positive-reward (yellow) and negative-return (red) and the action probabilities along the trajectories after the update. Credit: Sergey Levine.\n",
    "\n",
    "|<strong></strong>||\n",
    "|-----| ----|\n",
    "|<img src=\"imgs/pg1.png\" height=\"200\">|<img src=\"imgs/pg2.png\" height=\"200\">|\n"
   ]
  },
  {
   "cell_type": "markdown",
   "metadata": {},
   "source": [
    "The major drawback of the policy-gradient is it's high variance, which causes erratic optimization behavior and therefore slow convergence.\n",
    "One reason for this is that the log-policy weight term, $g(\\tau)$ can vary wildly between different trajectories, even if they're similar in\n",
    "actions. Later on we'll implement the loss and explore some methods of variance reduction."
   ]
  },
  {
   "cell_type": "markdown",
   "metadata": {},
   "source": [
    "### Landing on the moon with policy gradients"
   ]
  },
  {
   "cell_type": "markdown",
   "metadata": {},
   "source": [
    "In the spirit of the recent achievements of the Israeli space industry,\n",
    "we'll apply our reinforcement learning skills to solve a simple game called **LunarLander**.\n",
    "\n",
    "This game is available as an `environment` in OpenAI `gym`.\n",
    "\n",
    "<video loop autoplay src=\"http://gym.openai.com/videos/2019-04-06--My9IiAbqha/LunarLander-v2/original.mp4\" />"
   ]
  },
  {
   "cell_type": "markdown",
   "metadata": {},
   "source": [
    "In this environment, you need to control the lander and get it to land safely on the moon.\n",
    "To do so, you must apply bottom, right or left thrusters (each are either fully on or fully off)\n",
    "and get it to land within the designated zone as quickly as possible and with minimal wasted fuel."
   ]
  },
  {
   "cell_type": "code",
   "execution_count": 3,
   "metadata": {
    "execution": {
     "iopub.execute_input": "2022-01-18T10:22:20.702860Z",
     "iopub.status.busy": "2022-01-18T10:22:20.701768Z",
     "iopub.status.idle": "2022-01-18T10:22:21.015693Z",
     "shell.execute_reply": "2022-01-18T10:22:21.016185Z"
    }
   },
   "outputs": [
    {
     "name": "stderr",
     "output_type": "stream",
     "text": [
      "\n"
     ]
    }
   ],
   "source": [
    "import gym\n",
    "\n",
    "# Just for fun :) ... but also to re-define the default max number of steps\n",
    "ENV_NAME = 'Beresheet-v2'\n",
    "MAX_EPISODE_STEPS = 300\n",
    "if ENV_NAME not in gym.envs.registry.env_specs:\n",
    "    gym.register(\n",
    "        id=ENV_NAME,\n",
    "        entry_point='gym.envs.box2d:LunarLander',\n",
    "        max_episode_steps=MAX_EPISODE_STEPS,\n",
    "        reward_threshold=200,\n",
    "    )"
   ]
  },
  {
   "cell_type": "code",
   "execution_count": 4,
   "metadata": {
    "execution": {
     "iopub.execute_input": "2022-01-18T10:22:21.020846Z",
     "iopub.status.busy": "2022-01-18T10:22:21.019674Z",
     "iopub.status.idle": "2022-01-18T10:22:21.056682Z",
     "shell.execute_reply": "2022-01-18T10:22:21.057077Z"
    }
   },
   "outputs": [
    {
     "name": "stdout",
     "output_type": "stream",
     "text": [
      "<TimeLimit<OrderEnforcing<LunarLander<Beresheet-v2>>>>\n",
      "observations space: Box(-inf, inf, (8,), float32)\n",
      "action space: Discrete(4)\n"
     ]
    }
   ],
   "source": [
    "import gym\n",
    "\n",
    "env = gym.make(ENV_NAME)\n",
    "\n",
    "print(env)\n",
    "print(f'observations space: {env.observation_space}')\n",
    "print(f'action space: {env.action_space}')\n",
    "\n",
    "ENV_N_ACTIONS = env.action_space.n\n",
    "ENV_N_OBSERVATIONS = env.observation_space.shape[0]"
   ]
  },
  {
   "cell_type": "markdown",
   "metadata": {},
   "source": [
    "The observations at each step is the Lander's position, velocity, angle, angular velocity and ground contact state.\n",
    "The actions are no-op, fire left truster, bottom thruster and right thruster.\n",
    "\n",
    "You are **highly encouraged** to read the [documentation](https://github.com/openai/gym/blob/master/gym/envs/box2d/lunar_lander.py) in the source code of the `LunarLander` environment to understand the reward system,\n",
    "and see how the actions and observations are created."
   ]
  },
  {
   "cell_type": "markdown",
   "metadata": {},
   "source": [
    "### Policy network and Agent"
   ]
  },
  {
   "cell_type": "markdown",
   "metadata": {},
   "source": [
    "Let's start with our policy-model. This will be a simple neural net, which should take an observation and return a score for each possible action."
   ]
  },
  {
   "cell_type": "markdown",
   "metadata": {},
   "source": [
    "**TODO**:\n",
    "1. Implement all methods in the `PolicyNet` class in the `hw4/rl_pg.py` module.\n",
    "   Start small. A simple MLP with a few hidden layers is a good starting point. You can come back and change it later based on the the experiments.  \n",
    "   Notice that we'll use the `build_for_env` method to instantiate a `PolicyNet` based on the configuration of a given environment.\n",
    "2. If you need hyperparameters to configure your model (e.g. number of hidden layers, sizes, etc.), add them in `part1_pg_hyperparams()` in `hw4/answers.py`."
   ]
  },
  {
   "cell_type": "code",
   "execution_count": 22,
   "metadata": {
    "execution": {
     "iopub.execute_input": "2022-01-18T10:22:21.061472Z",
     "iopub.status.busy": "2022-01-18T10:22:21.060666Z",
     "iopub.status.idle": "2022-01-18T10:22:21.092086Z",
     "shell.execute_reply": "2022-01-18T10:22:21.092458Z"
    }
   },
   "outputs": [
    {
     "ename": "TypeError",
     "evalue": "__init__() missing 2 required positional arguments: 'in_features' and 'out_actions'",
     "output_type": "error",
     "traceback": [
      "\u001B[0;31m---------------------------------------------------------------------------\u001B[0m",
      "\u001B[0;31mTypeError\u001B[0m                                 Traceback (most recent call last)",
      "Input \u001B[0;32mIn [22]\u001B[0m, in \u001B[0;36m<module>\u001B[0;34m\u001B[0m\n\u001B[1;32m      4\u001B[0m hp \u001B[38;5;241m=\u001B[39m hw4\u001B[38;5;241m.\u001B[39manswers\u001B[38;5;241m.\u001B[39mpart1_pg_hyperparams()\n\u001B[1;32m      6\u001B[0m \u001B[38;5;66;03m# You can add keyword-args to this function which will be populated from the\u001B[39;00m\n\u001B[1;32m      7\u001B[0m \u001B[38;5;66;03m# hyperparameters dict.\u001B[39;00m\n\u001B[0;32m----> 8\u001B[0m p_net \u001B[38;5;241m=\u001B[39m \u001B[43mhw4pg\u001B[49m\u001B[38;5;241;43m.\u001B[39;49m\u001B[43mPolicyNet\u001B[49m\u001B[38;5;241;43m.\u001B[39;49m\u001B[43mbuild_for_env\u001B[49m\u001B[43m(\u001B[49m\u001B[43menv\u001B[49m\u001B[43m,\u001B[49m\u001B[43m \u001B[49m\u001B[43mdevice\u001B[49m\u001B[43m,\u001B[49m\u001B[43m \u001B[49m\u001B[38;5;241;43m*\u001B[39;49m\u001B[38;5;241;43m*\u001B[39;49m\u001B[43mhp\u001B[49m\u001B[43m)\u001B[49m\n\u001B[1;32m      9\u001B[0m p_net\n",
      "File \u001B[0;32m~/Documents/Technion/תשפ״ב - סמסטר חורף/למידה עמוקה על מאיצים חישוביים -  236781/HWs/hw4/hw4/rl_pg.py:60\u001B[0m, in \u001B[0;36mPolicyNet.build_for_env\u001B[0;34m(env, device, **kw)\u001B[0m\n\u001B[1;32m     51\u001B[0m \u001B[38;5;124;03m\"\"\"\u001B[39;00m\n\u001B[1;32m     52\u001B[0m \u001B[38;5;124;03mCreates a PolicyNet instance suitable for the given environment.\u001B[39;00m\n\u001B[1;32m     53\u001B[0m \u001B[38;5;124;03m:param env: The environment.\u001B[39;00m\n\u001B[0;32m   (...)\u001B[0m\n\u001B[1;32m     56\u001B[0m \u001B[38;5;124;03m:return: A PolicyNet instance.\u001B[39;00m\n\u001B[1;32m     57\u001B[0m \u001B[38;5;124;03m\"\"\"\u001B[39;00m\n\u001B[1;32m     58\u001B[0m \u001B[38;5;66;03m# TODO: Implement according to docstring.\u001B[39;00m\n\u001B[1;32m     59\u001B[0m \u001B[38;5;66;03m# ====== YOUR CODE: ======\u001B[39;00m\n\u001B[0;32m---> 60\u001B[0m net \u001B[38;5;241m=\u001B[39m \u001B[43mPolicyNet\u001B[49m\u001B[43m(\u001B[49m\u001B[38;5;241;43m*\u001B[39;49m\u001B[38;5;241;43m*\u001B[39;49m\u001B[43mkw\u001B[49m\u001B[43m)\u001B[49m\n\u001B[1;32m     61\u001B[0m \u001B[38;5;66;03m# ========================\u001B[39;00m\n\u001B[1;32m     62\u001B[0m \u001B[38;5;28;01mreturn\u001B[39;00m net\u001B[38;5;241m.\u001B[39mto(device)\n",
      "\u001B[0;31mTypeError\u001B[0m: __init__() missing 2 required positional arguments: 'in_features' and 'out_actions'"
     ]
    }
   ],
   "source": [
    "import hw4.rl_pg as hw4pg\n",
    "import hw4.answers\n",
    "\n",
    "hp = hw4.answers.part1_pg_hyperparams()\n",
    "\n",
    "# You can add keyword-args to this function which will be populated from the\n",
    "# hyperparameters dict.\n",
    "p_net = hw4pg.PolicyNet.build_for_env(env, device, **hp)\n",
    "p_net"
   ]
  },
  {
   "cell_type": "markdown",
   "metadata": {},
   "source": [
    "Now we need an **agent**. The purpose of our agent will be to act according to the current policy and generate experiences.\n",
    "Our `PolicyAgent` will use a `PolicyNet` as the current policy function.\n",
    "\n",
    "\n",
    "We'll also define some extra datatypes to help us represent the data generated by our agent.\n",
    "You can find the `Experience`, `Episode` and `TrainBatch` datatypes in the `hw4/rl_data.py` module."
   ]
  },
  {
   "cell_type": "markdown",
   "metadata": {},
   "source": [
    "**TODO**: Implement the `current_action_distribution()` method of the `PolicyAgent` class in the `hw4/rl_pg.py` module."
   ]
  },
  {
   "cell_type": "code",
   "execution_count": 6,
   "metadata": {
    "execution": {
     "iopub.execute_input": "2022-01-18T10:22:21.097161Z",
     "iopub.status.busy": "2022-01-18T10:22:21.096317Z",
     "iopub.status.idle": "2022-01-18T10:22:21.128327Z",
     "shell.execute_reply": "2022-01-18T10:22:21.129175Z"
    }
   },
   "outputs": [
    {
     "name": "stdout",
     "output_type": "stream",
     "text": [
      "tensor([0.2989, 0.2775, 0.1438, 0.2798], grad_fn=<SoftmaxBackward0>)\n"
     ]
    }
   ],
   "source": [
    "for i in range (10):\n",
    "    agent = hw4pg.PolicyAgent(env, p_net, device)\n",
    "    d = agent.current_action_distribution()\n",
    "    \n",
    "    test.assertSequenceEqual(d.shape, (env.action_space.n,))\n",
    "    test.assertAlmostEqual(d.sum(), 1.0, delta=1e-5)\n",
    "    \n",
    "print(d)"
   ]
  },
  {
   "cell_type": "markdown",
   "metadata": {},
   "source": [
    "**TODO**: Implement the `step()` method of the `PolicyAgent`."
   ]
  },
  {
   "cell_type": "code",
   "execution_count": 7,
   "metadata": {
    "execution": {
     "iopub.execute_input": "2022-01-18T10:22:21.133099Z",
     "iopub.status.busy": "2022-01-18T10:22:21.131776Z",
     "iopub.status.idle": "2022-01-18T10:22:21.169041Z",
     "shell.execute_reply": "2022-01-18T10:22:21.169917Z"
    }
   },
   "outputs": [
    {
     "name": "stdout",
     "output_type": "stream",
     "text": [
      "Experience(state=tensor([ 0.0101,  1.4195,  0.5035,  0.1772, -0.0095, -0.0715,  0.0000,  0.0000]), action=1, reward=1.2005832082599863, is_done=False)\n"
     ]
    }
   ],
   "source": [
    "agent = hw4pg.PolicyAgent(env, p_net, device)\n",
    "exp = agent.step()\n",
    "\n",
    "test.assertIsInstance(exp, hw4pg.Experience)\n",
    "print(exp)"
   ]
  },
  {
   "cell_type": "markdown",
   "metadata": {},
   "source": [
    "To test our agent, we'll write some code that allows it to play an environment. We'll use the `Monitor`\n",
    "wrapper in `gym` to generate a video of the episode for visual debugging."
   ]
  },
  {
   "cell_type": "markdown",
   "metadata": {},
   "source": [
    "**TODO**: Complete the implementation of the `monitor_episode()` method of the `PolicyAgent`."
   ]
  },
  {
   "cell_type": "code",
   "execution_count": 8,
   "metadata": {
    "execution": {
     "iopub.execute_input": "2022-01-18T10:22:21.173942Z",
     "iopub.status.busy": "2022-01-18T10:22:21.172711Z",
     "iopub.status.idle": "2022-01-18T10:22:23.646236Z",
     "shell.execute_reply": "2022-01-18T10:22:23.646649Z"
    }
   },
   "outputs": [],
   "source": [
    "env, n_steps, reward = agent.monitor_episode(ENV_NAME, p_net, device=device)"
   ]
  },
  {
   "cell_type": "markdown",
   "metadata": {},
   "source": [
    "To display the Monitor video in this notebook, we'll use a helper function from our `jupyter_utils` and a small wrapper that extracts the path of the last video file. "
   ]
  },
  {
   "cell_type": "code",
   "execution_count": 9,
   "metadata": {
    "execution": {
     "iopub.execute_input": "2022-01-18T10:22:23.652450Z",
     "iopub.status.busy": "2022-01-18T10:22:23.651284Z",
     "iopub.status.idle": "2022-01-18T10:22:23.680660Z",
     "shell.execute_reply": "2022-01-18T10:22:23.681083Z"
    }
   },
   "outputs": [],
   "source": [
    "import cs236781.jupyter_utils as jupyter_utils\n",
    "\n",
    "def show_monitor_video(monitor_env, idx=0, **kw):\n",
    "    # Extract video path\n",
    "    video_path = monitor_env.videos[idx][0]\n",
    "    video_path = os.path.relpath(video_path, start=os.path.curdir)\n",
    "    \n",
    "    # Use helper function to embed the video\n",
    "    return jupyter_utils.show_video_in_notebook(video_path, **kw)"
   ]
  },
  {
   "cell_type": "code",
   "execution_count": 10,
   "metadata": {
    "execution": {
     "iopub.execute_input": "2022-01-18T10:22:23.684996Z",
     "iopub.status.busy": "2022-01-18T10:22:23.684152Z",
     "iopub.status.idle": "2022-01-18T10:22:23.707928Z",
     "shell.execute_reply": "2022-01-18T10:22:23.708337Z"
    }
   },
   "outputs": [
    {
     "name": "stdout",
     "output_type": "stream",
     "text": [
      "Episode ran for 71 steps. Total reward: -143.34\n"
     ]
    },
    {
     "data": {
      "text/plain": "<IPython.core.display.HTML object>",
      "text/html": "<video src=\"data:video/mp4;base64,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\" controls autoplay width=\"500\" height=\"auto\" />"
     },
     "execution_count": 10,
     "metadata": {},
     "output_type": "execute_result"
    }
   ],
   "source": [
    "print(f'Episode ran for {n_steps} steps. Total reward: {reward:.2f}')\n",
    "\n",
    "show_monitor_video(env, idx=0)"
   ]
  },
  {
   "cell_type": "markdown",
   "metadata": {},
   "source": [
    "### Training data"
   ]
  },
  {
   "cell_type": "markdown",
   "metadata": {},
   "source": [
    "The next step is to create data to train on.\n",
    "We need to train on batches of state-action pairs, so that our network can learn to predict the actions.\n",
    "\n",
    "We'll split this task into three parts:\n",
    "1. Generate a batch of `Episode`s, by using an `Agent` that's playing according to our current policy network.\n",
    "   Each `Episode` object contains the `Experience` objects created by the agent.\n",
    "2. Calculate the total discounted reward for each state we encountered and action we took. This is our action-value estimate.\n",
    "3. Convert the `Episode`s into a batch of tensors to train on.\n",
    "   Each batch will contain states, action taken per state, reward accrued, and the calculated estimated state-values.\n",
    "   These will be stored in a `TrainBatch` object.\n"
   ]
  },
  {
   "cell_type": "markdown",
   "metadata": {},
   "source": [
    "**TODO**: Complete the implementation of the `episode_batch_generator()` method in the `TrainBatchDataset` class within the `hw4.rl_data` module. This will address part 1 in the list above."
   ]
  },
  {
   "cell_type": "code",
   "execution_count": 11,
   "metadata": {
    "execution": {
     "iopub.execute_input": "2022-01-18T10:22:23.714137Z",
     "iopub.status.busy": "2022-01-18T10:22:23.713337Z",
     "iopub.status.idle": "2022-01-18T10:22:24.214955Z",
     "shell.execute_reply": "2022-01-18T10:22:24.215460Z"
    }
   },
   "outputs": [
    {
     "name": "stdout",
     "output_type": "stream",
     "text": [
      "First episode: Episode(total_reward=-5.10, #experences=99)\n"
     ]
    }
   ],
   "source": [
    "import hw4.rl_data as hw4data\n",
    "\n",
    "def agent_fn():\n",
    "    env = gym.make(ENV_NAME)\n",
    "    hp = hw4.answers.part1_pg_hyperparams()\n",
    "    p_net = hw4pg.PolicyNet.build_for_env(env, device, **hp)\n",
    "    return hw4pg.PolicyAgent(env, p_net, device)\n",
    "    \n",
    "ds = hw4data.TrainBatchDataset(agent_fn, episode_batch_size=8, gamma=0.9)\n",
    "batch_gen = ds.episode_batch_generator()\n",
    "b = next(batch_gen)\n",
    "print('First episode:', b[0])\n",
    "\n",
    "test.assertEqual(len(b), 8)\n",
    "for ep in b:\n",
    "    test.assertIsInstance(ep, hw4data.Episode)\n",
    "    \n",
    "    # Check that it's a full episode\n",
    "    is_done = [exp.is_done for exp in ep.experiences]\n",
    "    test.assertFalse(any(is_done[0:-1]))\n",
    "    test.assertTrue(is_done[-1])"
   ]
  },
  {
   "cell_type": "markdown",
   "metadata": {},
   "source": [
    "**TODO**: Complete the implementation of the `calc_qvals()` method in the `Episode` class.\n",
    "This will address part 2.\n",
    "These q-values are an estimate of the actual action value function: $$\\hat{q}_{t} = \\sum_{t'\\geq t} \\gamma^{t'-t}r_{t'+1}.$$"
   ]
  },
  {
   "cell_type": "code",
   "execution_count": 12,
   "metadata": {
    "execution": {
     "iopub.execute_input": "2022-01-18T10:22:24.218948Z",
     "iopub.status.busy": "2022-01-18T10:22:24.218130Z",
     "iopub.status.idle": "2022-01-18T10:22:24.258907Z",
     "shell.execute_reply": "2022-01-18T10:22:24.259363Z"
    }
   },
   "outputs": [],
   "source": [
    "np.random.seed(SEED)\n",
    "test_rewards = np.random.randint(-10, 10, 100)\n",
    "test_experiences = [hw4pg.Experience(None,None,r,False) for r in test_rewards] \n",
    "test_episode = hw4data.Episode(np.sum(test_rewards), test_experiences)\n",
    "\n",
    "qvals = test_episode.calc_qvals(0.9)\n",
    "qvals = list(qvals)\n",
    "\n",
    "expected_qvals = np.load(os.path.join('tests', 'assets', 'part1_expected_qvals.npy'))\n",
    "for i in range(len(test_rewards)):\n",
    "    test.assertAlmostEqual(expected_qvals[i], qvals[i], delta=1e-3)"
   ]
  },
  {
   "cell_type": "markdown",
   "metadata": {},
   "source": [
    "**TODO**: Complete the implementation of the `from_episodes()` method in the `TrainBatch` class.\n",
    "This will address part 3.\n",
    "\n",
    "Notes:\n",
    "- The `TrainBatchDataset` class provides a generator function that will use the above function to lazily generate batches of training samples and labels on demand.\n",
    "- This allows us to use a standard `PyTorch` dataloader to wrap our Dataset and provide us with parallel data loading for free!\n",
    "  This means we can run multiple environments with multiple agents in separate background processes to generate data for training and thus prevent the data loading bottleneck which is caused by the fact that we must generate full Episodes to train on in order to calculate the q-values.\n",
    "- We'll set the `DataLoader`'s `batch_size` to `None` because we have already implemented custom batching in our dataset.\n",
    "- You can choose the number of worker processes generating data using the `num_workers` parameter in the hyperparams dict. Set `num_workers=0` to disable parallelization."
   ]
  },
  {
   "cell_type": "code",
   "execution_count": 13,
   "metadata": {
    "execution": {
     "iopub.execute_input": "2022-01-18T10:22:24.262619Z",
     "iopub.status.busy": "2022-01-18T10:22:24.261799Z",
     "iopub.status.idle": "2022-01-18T10:22:26.132363Z",
     "shell.execute_reply": "2022-01-18T10:22:26.132818Z"
    }
   },
   "outputs": [
    {
     "name": "stdout",
     "output_type": "stream",
     "text": [
      "#0: TrainBatch(states: torch.Size([757, 8]), actions: torch.Size([757]), q_vals: torch.Size([757])), num_episodes: 8)\n",
      "\n",
      "#1: TrainBatch(states: torch.Size([801, 8]), actions: torch.Size([801]), q_vals: torch.Size([801])), num_episodes: 8)\n",
      "\n",
      "#2: TrainBatch(states: torch.Size([720, 8]), actions: torch.Size([720]), q_vals: torch.Size([720])), num_episodes: 8)\n",
      "\n"
     ]
    }
   ],
   "source": [
    "from torch.utils.data import DataLoader\n",
    "\n",
    "hp = hw4.answers.part1_pg_hyperparams()\n",
    "\n",
    "ds = hw4data.TrainBatchDataset(agent_fn, episode_batch_size=8, gamma=0.9)\n",
    "dl = DataLoader(\n",
    "    ds,\n",
    "    batch_size=None,\n",
    "    num_workers=hp['num_workers'],\n",
    "    multiprocessing_context='fork' if hp['num_workers'] > 0 else None\n",
    ")\n",
    "\n",
    "\n",
    "for i, train_batch in enumerate(dl):\n",
    "    states, actions, qvals, reward_mean = train_batch\n",
    "    print(f'#{i}: {train_batch}', end=\"\\n\\n\")\n",
    "    test.assertEqual(states.shape[0], actions.shape[0])\n",
    "    test.assertEqual(qvals.shape[0], actions.shape[0])\n",
    "    test.assertEqual(states.shape[1], env.observation_space.shape[0])\n",
    "    if i > 1:\n",
    "        break"
   ]
  },
  {
   "cell_type": "markdown",
   "metadata": {},
   "source": [
    "### Loss functions"
   ]
  },
  {
   "cell_type": "markdown",
   "metadata": {},
   "source": [
    "As usual, we need a loss function to optimize over.\n",
    "We'll calculate three types of losses:\n",
    "1. The causal vanilla policy gradient loss.\n",
    "1. The policy gradient loss, with a baseline to reduce variance.\n",
    "2. An entropy-based loss whos purpose is to diversify the agent's action selection,\n",
    "   and prevent it from being \"too sure\" about its actions.\n",
    "   This loss will be used together with one of the above losses."
   ]
  },
  {
   "cell_type": "markdown",
   "metadata": {},
   "source": [
    "#### Causal vanilla policy-gradient"
   ]
  },
  {
   "cell_type": "markdown",
   "metadata": {},
   "source": [
    "We have derived the policy-gradient as\n",
    "$\n",
    "\\grad\\mathcal{L}(\\vec{\\theta}) = \\E[\\tau]{-g(\\tau)\\sum_{t\\geq0} \\grad\\log \\pi_{\\vec{\\theta}}(a_t|s_t)}.\n",
    "$\n",
    "\n",
    "By writing the discounted reward explicitly and enforcing causality, i.e. the action taken at time $t$ can't affect\n",
    "the reward at time $t'<t$, we can get a slightly lower-variance version of the policy gradient:\n",
    "\n",
    "$ \\grad\\mathcal{L}_{\\text{PG}}(\\vec{\\theta}) = \\E[\\tau]{-\\sum_{t\\geq0} \\left(\\sum_{t'\\geq t} \\gamma^{t'-t}r_{t'+1} \\right)\\grad\\log \\pi_{\\vec{\\theta}}(a_t|s_t)}. $"
   ]
  },
  {
   "cell_type": "markdown",
   "metadata": {},
   "source": [
    "In practice, the expectation over trajectories is calculated using a Monte-Carlo approach, i.e. simply sampling $N$\n",
    "trajectories and average the term inside the expectation. Therefore, we will use the following estimated version of the policy gradient:\n",
    "\n",
    "$\n",
    "\\begin{align}\n",
    "\\hat\\grad\\mathcal{L}_{\\text{PG}}(\\vec{\\theta})\n",
    "&=-\\frac{1}{N}\\sum_{i=1}^{N}\\sum_{t\\geq0} \\left(\\sum_{t'\\geq t} \\gamma^{t'-t}r_{i,t'+1} \\right)\\grad\\log \\pi_{\\vec{\\theta}}(a_{i,t}|s_{i,t}) \\\\\n",
    "&=-\\frac{1}{N}\\sum_{i=1}^{N}\\sum_{t\\geq0} \\hat{q}_{i,t} \\grad\\log \\pi_{\\vec{\\theta}}(a_{i,t}|s_{i,t}).\n",
    "\\end{align}\n",
    "$\n",
    "\n",
    "Note the use of the notation $\\hat{q}_{i,t}$ to represent the estimated action-value at time $t$ in the sampled trajectory $i$.\n",
    "Here $\\hat{q}_{i,t}$ is acting as the weight-term for the policy gradient."
   ]
  },
  {
   "cell_type": "markdown",
   "metadata": {},
   "source": [
    "**TODO**: Complete the implementation of the `VanillaPolicyGradientLoss` class in the `hw4/rl_pg.py` module."
   ]
  },
  {
   "cell_type": "code",
   "execution_count": 14,
   "metadata": {
    "execution": {
     "iopub.execute_input": "2022-01-18T10:22:26.139509Z",
     "iopub.status.busy": "2022-01-18T10:22:26.138677Z",
     "iopub.status.idle": "2022-01-18T10:22:26.341624Z",
     "shell.execute_reply": "2022-01-18T10:22:26.342129Z"
    }
   },
   "outputs": [
    {
     "name": "stdout",
     "output_type": "stream",
     "text": [
      "test_batch=TrainBatch(states: torch.Size([370, 8]), actions: torch.Size([370]), q_vals: torch.Size([370])), num_episodes: 4)\n",
      "\n",
      "test_action_scores=\n",
      "tensor([[-0.6567, -0.8678, -0.1043,  0.9756],\n",
      "        [-1.0027,  1.2805,  1.2131,  0.1211],\n",
      "        [-0.2811,  1.7253,  0.1270, -0.8810],\n",
      "        ...,\n",
      "        [ 0.9625,  0.0453, -2.0377, -1.0923],\n",
      "        [ 0.6617, -0.0582, -0.7564,  0.2038],\n",
      "        [ 0.3685, -0.2604,  0.1270, -1.7026]])\n",
      "shape=torch.Size([370, 4])\n",
      "\n",
      "loss_p=tensor(-56.6286)\n"
     ]
    },
    {
     "ename": "AssertionError",
     "evalue": "-56.62862014770508 != -48.56 within 0.01 delta (8.068620147705076 difference)",
     "output_type": "error",
     "traceback": [
      "\u001B[0;31m---------------------------------------------------------------------------\u001B[0m",
      "\u001B[0;31mAssertionError\u001B[0m                            Traceback (most recent call last)",
      "Input \u001B[0;32mIn [14]\u001B[0m, in \u001B[0;36m<module>\u001B[0;34m\u001B[0m\n\u001B[1;32m     21\u001B[0m loss_p, _ \u001B[38;5;241m=\u001B[39m loss_fn_p(test_batch, test_action_scores)\n\u001B[1;32m     23\u001B[0m \u001B[38;5;28mprint\u001B[39m(\u001B[38;5;124mf\u001B[39m\u001B[38;5;124m'\u001B[39m\u001B[38;5;132;01m{\u001B[39;00mloss_p\u001B[38;5;132;01m=}\u001B[39;00m\u001B[38;5;124m'\u001B[39m)\n\u001B[0;32m---> 24\u001B[0m \u001B[43mtest\u001B[49m\u001B[38;5;241;43m.\u001B[39;49m\u001B[43massertAlmostEqual\u001B[49m\u001B[43m(\u001B[49m\u001B[43mloss_p\u001B[49m\u001B[38;5;241;43m.\u001B[39;49m\u001B[43mitem\u001B[49m\u001B[43m(\u001B[49m\u001B[43m)\u001B[49m\u001B[43m,\u001B[49m\u001B[43m \u001B[49m\u001B[38;5;241;43m-\u001B[39;49m\u001B[38;5;241;43m48.560\u001B[39;49m\u001B[43m,\u001B[49m\u001B[43m \u001B[49m\u001B[43mdelta\u001B[49m\u001B[38;5;241;43m=\u001B[39;49m\u001B[38;5;241;43m1e-2\u001B[39;49m\u001B[43m)\u001B[49m\n",
      "File \u001B[0;32m~/opt/anaconda3/envs/cs236781-hw4/lib/python3.8/unittest/case.py:966\u001B[0m, in \u001B[0;36mTestCase.assertAlmostEqual\u001B[0;34m(self, first, second, places, msg, delta)\u001B[0m\n\u001B[1;32m    960\u001B[0m     standardMsg \u001B[38;5;241m=\u001B[39m \u001B[38;5;124m'\u001B[39m\u001B[38;5;132;01m%s\u001B[39;00m\u001B[38;5;124m != \u001B[39m\u001B[38;5;132;01m%s\u001B[39;00m\u001B[38;5;124m within \u001B[39m\u001B[38;5;132;01m%r\u001B[39;00m\u001B[38;5;124m places (\u001B[39m\u001B[38;5;132;01m%s\u001B[39;00m\u001B[38;5;124m difference)\u001B[39m\u001B[38;5;124m'\u001B[39m \u001B[38;5;241m%\u001B[39m (\n\u001B[1;32m    961\u001B[0m         safe_repr(first),\n\u001B[1;32m    962\u001B[0m         safe_repr(second),\n\u001B[1;32m    963\u001B[0m         places,\n\u001B[1;32m    964\u001B[0m         safe_repr(diff))\n\u001B[1;32m    965\u001B[0m msg \u001B[38;5;241m=\u001B[39m \u001B[38;5;28mself\u001B[39m\u001B[38;5;241m.\u001B[39m_formatMessage(msg, standardMsg)\n\u001B[0;32m--> 966\u001B[0m \u001B[38;5;28;01mraise\u001B[39;00m \u001B[38;5;28mself\u001B[39m\u001B[38;5;241m.\u001B[39mfailureException(msg)\n",
      "\u001B[0;31mAssertionError\u001B[0m: -56.62862014770508 != -48.56 within 0.01 delta (8.068620147705076 difference)"
     ]
    }
   ],
   "source": [
    "# Ensure deterministic run\n",
    "env = gym.make(ENV_NAME)\n",
    "env.seed(SEED)\n",
    "torch.manual_seed(SEED)\n",
    "\n",
    "def agent_fn():\n",
    "    # Use a simple \"network\" here, so that this test doesn't depend on\n",
    "    # your specific PolicyNet implementation\n",
    "    p_net_test = nn.Linear(ENV_N_OBSERVATIONS, ENV_N_ACTIONS, bias=True)\n",
    "    agent = hw4pg.PolicyAgent(env, p_net_test)\n",
    "    return agent\n",
    "\n",
    "dataloader = hw4data.TrainBatchDataset(agent_fn, gamma=0.9, episode_batch_size=4)\n",
    "\n",
    "test_batch = next(iter(dataloader))\n",
    "test_action_scores = torch.randn(len(test_batch), env.action_space.n)\n",
    "print(f\"{test_batch=}\", end='\\n\\n')\n",
    "print(f\"test_action_scores=\\n{test_action_scores}\\nshape={test_action_scores.shape}\", end='\\n\\n')\n",
    "\n",
    "loss_fn_p = hw4pg.VanillaPolicyGradientLoss()\n",
    "loss_p, _ = loss_fn_p(test_batch, test_action_scores)\n",
    "\n",
    "print(f'{loss_p=}')\n",
    "test.assertAlmostEqual(loss_p.item(), -48.560, delta=1e-2)"
   ]
  },
  {
   "cell_type": "markdown",
   "metadata": {},
   "source": [
    "#### Policy-gradient with baseline"
   ]
  },
  {
   "cell_type": "markdown",
   "metadata": {},
   "source": [
    "Another way to reduce the variance of our gradient is to use relative weighting of the log-policy instead of absolute reward values.\n",
    "$\\hat\\grad\\mathcal{L}_{\\text{BPG}}(\\vec{\\theta})=-\\frac{1}{N}\\sum_{i=1}^{N}\\sum_{t\\geq0} \\left(\\hat{q}_{i,t}-b\\right) \\grad\\log \\pi_{\\vec{\\theta}}(a_{i,t}|s_{i,t}).$\n",
    "In other words, we don't measure a trajectory's worth by it's total reward, but by how much better that total reward is relative to some\n",
    "expected (\"baseline\") reward value, denoted above by $b$.\n",
    "Note that subtracting a baseline has no effect on the expected value of the policy gradient. It's easy to prove this directly by definition.\n",
    "\n",
    "Here we'll implement a very simple baseline (not optimal in terms of variance reduction): the average of the estimated state-values $\\hat{q}_{i,t}$."
   ]
  },
  {
   "cell_type": "markdown",
   "metadata": {},
   "source": [
    "**TODO**: Complete the implementation of the `BaselinePolicyGradientLoss` class in the `hw4/rl_pg.py` module."
   ]
  },
  {
   "cell_type": "code",
   "execution_count": 15,
   "metadata": {
    "execution": {
     "iopub.execute_input": "2022-01-18T10:22:26.345840Z",
     "iopub.status.busy": "2022-01-18T10:22:26.344959Z",
     "iopub.status.idle": "2022-01-18T10:22:26.385001Z",
     "shell.execute_reply": "2022-01-18T10:22:26.385550Z"
    }
   },
   "outputs": [
    {
     "name": "stdout",
     "output_type": "stream",
     "text": [
      "loss_dict={'loss_p': -1.4123878479003906, 'baseline': -31.80271339416504}\n"
     ]
    },
    {
     "ename": "AssertionError",
     "evalue": "-31.80271339416504 != -29.841 within 0.01 delta (1.961713394165038 difference)",
     "output_type": "error",
     "traceback": [
      "\u001B[0;31m---------------------------------------------------------------------------\u001B[0m",
      "\u001B[0;31mAssertionError\u001B[0m                            Traceback (most recent call last)",
      "Input \u001B[0;32mIn [15]\u001B[0m, in \u001B[0;36m<module>\u001B[0;34m\u001B[0m\n\u001B[1;32m      3\u001B[0m loss_p, loss_dict \u001B[38;5;241m=\u001B[39m loss_fn_p(test_batch, test_action_scores)\n\u001B[1;32m      5\u001B[0m \u001B[38;5;28mprint\u001B[39m(\u001B[38;5;124mf\u001B[39m\u001B[38;5;124m'\u001B[39m\u001B[38;5;132;01m{\u001B[39;00mloss_dict\u001B[38;5;132;01m=}\u001B[39;00m\u001B[38;5;124m'\u001B[39m)\n\u001B[0;32m----> 6\u001B[0m \u001B[43mtest\u001B[49m\u001B[38;5;241;43m.\u001B[39;49m\u001B[43massertAlmostEqual\u001B[49m\u001B[43m(\u001B[49m\u001B[43mloss_dict\u001B[49m\u001B[43m[\u001B[49m\u001B[38;5;124;43m'\u001B[39;49m\u001B[38;5;124;43mbaseline\u001B[39;49m\u001B[38;5;124;43m'\u001B[39;49m\u001B[43m]\u001B[49m\u001B[43m,\u001B[49m\u001B[43m \u001B[49m\u001B[38;5;241;43m-\u001B[39;49m\u001B[38;5;241;43m29.841\u001B[39;49m\u001B[43m,\u001B[49m\u001B[43m \u001B[49m\u001B[43mdelta\u001B[49m\u001B[38;5;241;43m=\u001B[39;49m\u001B[38;5;241;43m1e-2\u001B[39;49m\u001B[43m)\u001B[49m\n\u001B[1;32m      7\u001B[0m test\u001B[38;5;241m.\u001B[39massertAlmostEqual(loss_p\u001B[38;5;241m.\u001B[39mitem(), \u001B[38;5;241m1.297\u001B[39m, delta\u001B[38;5;241m=\u001B[39m\u001B[38;5;241m1e-2\u001B[39m)\n",
      "File \u001B[0;32m~/opt/anaconda3/envs/cs236781-hw4/lib/python3.8/unittest/case.py:966\u001B[0m, in \u001B[0;36mTestCase.assertAlmostEqual\u001B[0;34m(self, first, second, places, msg, delta)\u001B[0m\n\u001B[1;32m    960\u001B[0m     standardMsg \u001B[38;5;241m=\u001B[39m \u001B[38;5;124m'\u001B[39m\u001B[38;5;132;01m%s\u001B[39;00m\u001B[38;5;124m != \u001B[39m\u001B[38;5;132;01m%s\u001B[39;00m\u001B[38;5;124m within \u001B[39m\u001B[38;5;132;01m%r\u001B[39;00m\u001B[38;5;124m places (\u001B[39m\u001B[38;5;132;01m%s\u001B[39;00m\u001B[38;5;124m difference)\u001B[39m\u001B[38;5;124m'\u001B[39m \u001B[38;5;241m%\u001B[39m (\n\u001B[1;32m    961\u001B[0m         safe_repr(first),\n\u001B[1;32m    962\u001B[0m         safe_repr(second),\n\u001B[1;32m    963\u001B[0m         places,\n\u001B[1;32m    964\u001B[0m         safe_repr(diff))\n\u001B[1;32m    965\u001B[0m msg \u001B[38;5;241m=\u001B[39m \u001B[38;5;28mself\u001B[39m\u001B[38;5;241m.\u001B[39m_formatMessage(msg, standardMsg)\n\u001B[0;32m--> 966\u001B[0m \u001B[38;5;28;01mraise\u001B[39;00m \u001B[38;5;28mself\u001B[39m\u001B[38;5;241m.\u001B[39mfailureException(msg)\n",
      "\u001B[0;31mAssertionError\u001B[0m: -31.80271339416504 != -29.841 within 0.01 delta (1.961713394165038 difference)"
     ]
    }
   ],
   "source": [
    "# Using the same batch and action_scores from above cell\n",
    "loss_fn_p = hw4pg.BaselinePolicyGradientLoss()\n",
    "loss_p, loss_dict = loss_fn_p(test_batch, test_action_scores)\n",
    "\n",
    "print(f'{loss_dict=}')\n",
    "test.assertAlmostEqual(loss_dict['baseline'], -29.841, delta=1e-2)\n",
    "test.assertAlmostEqual(loss_p.item(), 1.297, delta=1e-2)"
   ]
  },
  {
   "cell_type": "markdown",
   "metadata": {},
   "source": [
    "#### Entropy loss"
   ]
  },
  {
   "cell_type": "markdown",
   "metadata": {},
   "source": [
    "The entropy of a probability distribution (in our case the policy), is\n",
    "$\n",
    "H(\\pi) = -\\sum_{a} \\pi(a|s)\\log\\pi(a|s).\n",
    "$\n",
    "The entropy is always positive and obtains it's maximum for a uniform distribution.\n",
    "We'll use the entropy of the policy as a bonus, i.e. we'll try to maximize it.\n",
    "The idea is the prevent the policy distribution from becoming too narrow and thus promote the agent's exploration."
   ]
  },
  {
   "cell_type": "markdown",
   "metadata": {},
   "source": [
    "First, we'll calculate the maximal possible entropy value of the action distribution for a set number of possible actions.\n",
    "This will be used as a normalization term.\n",
    "\n",
    "**TODO**: Complete the implementation of the `calc_max_entropy()` method in the `ActionEntropyLoss` class."
   ]
  },
  {
   "cell_type": "code",
   "execution_count": 16,
   "metadata": {
    "execution": {
     "iopub.execute_input": "2022-01-18T10:22:26.389063Z",
     "iopub.status.busy": "2022-01-18T10:22:26.388209Z",
     "iopub.status.idle": "2022-01-18T10:22:26.423908Z",
     "shell.execute_reply": "2022-01-18T10:22:26.424415Z"
    }
   },
   "outputs": [
    {
     "name": "stdout",
     "output_type": "stream",
     "text": [
      "max_entropy =  1.3862943649291992\n"
     ]
    }
   ],
   "source": [
    "loss_fn_e = hw4pg.ActionEntropyLoss(env.action_space.n)\n",
    "print('max_entropy = ', loss_fn_e.max_entropy)\n",
    "\n",
    "test.assertAlmostEqual(loss_fn_e.max_entropy, 1.38629436, delta=1e-3)"
   ]
  },
  {
   "cell_type": "markdown",
   "metadata": {},
   "source": [
    "**TODO**: Complete the implementation of the `forward()` method in the `ActionEntropyLoss` class."
   ]
  },
  {
   "cell_type": "code",
   "execution_count": 17,
   "metadata": {
    "execution": {
     "iopub.execute_input": "2022-01-18T10:22:26.429185Z",
     "iopub.status.busy": "2022-01-18T10:22:26.428083Z",
     "iopub.status.idle": "2022-01-18T10:22:26.461832Z",
     "shell.execute_reply": "2022-01-18T10:22:26.462275Z"
    }
   },
   "outputs": [
    {
     "name": "stdout",
     "output_type": "stream",
     "text": [
      "loss =  tensor(-0.7934)\n"
     ]
    },
    {
     "ename": "AssertionError",
     "evalue": "-0.7933820486068726 != -0.8103 within 0.01 delta (0.01691795139312746 difference)",
     "output_type": "error",
     "traceback": [
      "\u001B[0;31m---------------------------------------------------------------------------\u001B[0m",
      "\u001B[0;31mAssertionError\u001B[0m                            Traceback (most recent call last)",
      "Input \u001B[0;32mIn [17]\u001B[0m, in \u001B[0;36m<module>\u001B[0;34m\u001B[0m\n\u001B[1;32m      1\u001B[0m loss_e, _ \u001B[38;5;241m=\u001B[39m loss_fn_e(test_batch, test_action_scores)\n\u001B[1;32m      2\u001B[0m \u001B[38;5;28mprint\u001B[39m(\u001B[38;5;124m'\u001B[39m\u001B[38;5;124mloss = \u001B[39m\u001B[38;5;124m'\u001B[39m, loss_e)\n\u001B[0;32m----> 4\u001B[0m \u001B[43mtest\u001B[49m\u001B[38;5;241;43m.\u001B[39;49m\u001B[43massertAlmostEqual\u001B[49m\u001B[43m(\u001B[49m\u001B[43mloss_e\u001B[49m\u001B[38;5;241;43m.\u001B[39;49m\u001B[43mitem\u001B[49m\u001B[43m(\u001B[49m\u001B[43m)\u001B[49m\u001B[43m,\u001B[49m\u001B[43m \u001B[49m\u001B[38;5;241;43m-\u001B[39;49m\u001B[38;5;241;43m0.8103\u001B[39;49m\u001B[43m,\u001B[49m\u001B[43m \u001B[49m\u001B[43mdelta\u001B[49m\u001B[38;5;241;43m=\u001B[39;49m\u001B[38;5;241;43m1e-2\u001B[39;49m\u001B[43m)\u001B[49m\n",
      "File \u001B[0;32m~/opt/anaconda3/envs/cs236781-hw4/lib/python3.8/unittest/case.py:966\u001B[0m, in \u001B[0;36mTestCase.assertAlmostEqual\u001B[0;34m(self, first, second, places, msg, delta)\u001B[0m\n\u001B[1;32m    960\u001B[0m     standardMsg \u001B[38;5;241m=\u001B[39m \u001B[38;5;124m'\u001B[39m\u001B[38;5;132;01m%s\u001B[39;00m\u001B[38;5;124m != \u001B[39m\u001B[38;5;132;01m%s\u001B[39;00m\u001B[38;5;124m within \u001B[39m\u001B[38;5;132;01m%r\u001B[39;00m\u001B[38;5;124m places (\u001B[39m\u001B[38;5;132;01m%s\u001B[39;00m\u001B[38;5;124m difference)\u001B[39m\u001B[38;5;124m'\u001B[39m \u001B[38;5;241m%\u001B[39m (\n\u001B[1;32m    961\u001B[0m         safe_repr(first),\n\u001B[1;32m    962\u001B[0m         safe_repr(second),\n\u001B[1;32m    963\u001B[0m         places,\n\u001B[1;32m    964\u001B[0m         safe_repr(diff))\n\u001B[1;32m    965\u001B[0m msg \u001B[38;5;241m=\u001B[39m \u001B[38;5;28mself\u001B[39m\u001B[38;5;241m.\u001B[39m_formatMessage(msg, standardMsg)\n\u001B[0;32m--> 966\u001B[0m \u001B[38;5;28;01mraise\u001B[39;00m \u001B[38;5;28mself\u001B[39m\u001B[38;5;241m.\u001B[39mfailureException(msg)\n",
      "\u001B[0;31mAssertionError\u001B[0m: -0.7933820486068726 != -0.8103 within 0.01 delta (0.01691795139312746 difference)"
     ]
    }
   ],
   "source": [
    "loss_e, _ = loss_fn_e(test_batch, test_action_scores)\n",
    "print('loss = ', loss_e)\n",
    "\n",
    "test.assertAlmostEqual(loss_e.item(), -0.8103, delta=1e-2)"
   ]
  },
  {
   "cell_type": "markdown",
   "metadata": {},
   "source": [
    "### Training"
   ]
  },
  {
   "cell_type": "markdown",
   "metadata": {},
   "source": [
    "We'll implement our training procedure as follows:\n",
    "\n",
    "1. Initialize the current policy to be a random policy.\n",
    "1. Sample $N$ trajectories from the environment using the current policy.\n",
    "2. Calculate the estimated $q$-values, $\\hat{q}_{i,t} = \\sum_{t'\\geq t} \\gamma^{t'}r_{i,t'+1}$ for each trajectory $i$.\n",
    "3. Calculate policy gradient estimate $\\hat\\grad\\mathcal{L}(\\vec{\\theta})$ as defined above.\n",
    "4. Perform SGD update $\\vec{\\theta}\\leftarrow\\vec{\\theta}-\\eta\\hat\\grad\\mathcal{L}(\\vec{\\theta})$.\n",
    "5. Repeat from step 2.\n",
    "\n",
    "This is known as the **REINFORCE** algorithm."
   ]
  },
  {
   "cell_type": "markdown",
   "metadata": {},
   "source": [
    "Fortunately, we've already implemented everything we need for steps 1-4 so we need only a bit more code to put it all together.\n",
    "\n",
    "The following block implements a wrapper, `train_pg` to create all the objects we need in order to train our policy gradient model.\n"
   ]
  },
  {
   "cell_type": "code",
   "execution_count": 35,
   "metadata": {
    "execution": {
     "iopub.execute_input": "2022-01-18T10:22:26.465651Z",
     "iopub.status.busy": "2022-01-18T10:22:26.464805Z",
     "iopub.status.idle": "2022-01-18T10:22:26.512305Z",
     "shell.execute_reply": "2022-01-18T10:22:26.513016Z"
    }
   },
   "outputs": [],
   "source": [
    "import hw4.answers\n",
    "from functools import partial\n",
    "\n",
    "ENV_NAME = \"Beresheet-v2\"\n",
    "\n",
    "def agent_fn_train(agent_type, p_net, seed, envs_dict):\n",
    "    winfo = torch.utils.data.get_worker_info()\n",
    "    wid = winfo.id if winfo else 0\n",
    "    seed = seed + wid if seed else wid\n",
    "\n",
    "    env = gym.make(ENV_NAME)\n",
    "    envs_dict[wid] = env\n",
    "    env.seed(seed)\n",
    "    np.random.seed(seed)\n",
    "    torch.manual_seed(seed)\n",
    "\n",
    "    return agent_type(env, p_net)\n",
    "\n",
    "def train_rl(agent_type, net_type, loss_fns, hp, seed=None, checkpoints_file=None, **train_kw):\n",
    "    print(f'hyperparams: {hp}')\n",
    "    \n",
    "    envs = {}\n",
    "    p_net = net_type(ENV_N_OBSERVATIONS, ENV_N_ACTIONS, **hp)\n",
    "    p_net.share_memory()\n",
    "    agent_fn = partial(agent_fn_train, agent_type, p_net, seed, envs)\n",
    "    \n",
    "    dataset = hw4data.TrainBatchDataset(agent_fn, hp['batch_size'], hp['gamma'])\n",
    "    dataloader = DataLoader(\n",
    "        dataset, batch_size=None,\n",
    "        num_workers=hp['num_workers'],\n",
    "        multiprocessing_context='fork' if hp['num_workers'] > 0 else None\n",
    "    )\n",
    "    optimizer = optim.Adam(p_net.parameters(), lr=hp['learn_rate'], eps=hp['eps'])\n",
    "    \n",
    "    trainer = hw4pg.PolicyTrainer(p_net, optimizer, loss_fns, dataloader, checkpoints_file)\n",
    "    try:\n",
    "        trainer.train(**train_kw)\n",
    "    except KeyboardInterrupt as e:\n",
    "        print('Training interrupted by user.')\n",
    "    finally:\n",
    "        for env in envs.values():\n",
    "            env.close()\n",
    "\n",
    "    # Include final model state\n",
    "    training_data = trainer.training_data\n",
    "    training_data['model_state'] = p_net.state_dict()\n",
    "    return training_data\n",
    "    \n",
    "def train_pg(baseline=False, entropy=False, **train_kwargs):\n",
    "    hp = hw4.answers.part1_pg_hyperparams()\n",
    "    \n",
    "    loss_fns = []\n",
    "    if baseline:\n",
    "        loss_fns.append(hw4pg.BaselinePolicyGradientLoss())\n",
    "    else:\n",
    "        loss_fns.append(hw4pg.VanillaPolicyGradientLoss())\n",
    "    if entropy:\n",
    "        loss_fns.append(hw4pg.ActionEntropyLoss(ENV_N_ACTIONS, hp['beta']))\n",
    "\n",
    "    return train_rl(hw4pg.PolicyAgent, hw4pg.PolicyNet, loss_fns, hp, **train_kwargs)"
   ]
  },
  {
   "cell_type": "markdown",
   "metadata": {},
   "source": [
    "The `PolicyTrainer` class implements the training loop, collects the losses and rewards and provides some useful checkpointing functionality.\n",
    "The training loop will generate batches of episodes and train on them until either:\n",
    "- The average total reward from the last `running_mean_len` episodes is greater than the `target_reward`, OR\n",
    "- The number of generated episodes reached `max_episodes`.\n",
    "\n",
    "Most of this class is already implemented for you. "
   ]
  },
  {
   "cell_type": "markdown",
   "metadata": {},
   "source": [
    "**TODO**:\n",
    "1. Complete the training loop by implementing the `train_batch()` method of the `PolicyTrainer`.\n",
    "2. Tweak the hyperparameters in the `part1_pg_hyperparams()` function within the `hw4/answers.py` module as needed. You get some sane defaults."
   ]
  },
  {
   "cell_type": "markdown",
   "metadata": {},
   "source": [
    "Let's check whether our model is actually training.\n",
    "We'll try to reach a very low (bad) target reward, just as a sanity check to see that training works.\n",
    "Your model should be able to reach this target reward within a few batches.\n",
    "\n",
    "You can increase the target reward and use this block to manually tweak your model and hyperparameters a few times."
   ]
  },
  {
   "cell_type": "code",
   "execution_count": 37,
   "metadata": {
    "execution": {
     "iopub.execute_input": "2022-01-18T10:22:26.517930Z",
     "iopub.status.busy": "2022-01-18T10:22:26.517137Z",
     "iopub.status.idle": "2022-01-18T10:22:35.261012Z",
     "shell.execute_reply": "2022-01-18T10:22:35.261399Z"
    }
   },
   "outputs": [
    {
     "name": "stdout",
     "output_type": "stream",
     "text": [
      "hyperparams: {'batch_size': 32, 'gamma': 0.99, 'beta': 0.5, 'learn_rate': 0.01, 'eps': 1e-08, 'num_workers': 0, 'width': 2, 'height': 4}\n",
      "=== Training...\n",
      "#12: step=00037871, loss_p=-146.69, m_reward(10)=-178.4 (best=-104.5):  21%|██        | 416/2000 [00:46<02:57,  8.92it/s]\n",
      "Training interrupted by user.\n"
     ]
    },
    {
     "ename": "AssertionError",
     "evalue": "-178.40036 not greater than -100",
     "output_type": "error",
     "traceback": [
      "\u001B[0;31m---------------------------------------------------------------------------\u001B[0m",
      "\u001B[0;31mAssertionError\u001B[0m                            Traceback (most recent call last)",
      "Input \u001B[0;32mIn [37]\u001B[0m, in \u001B[0;36m<module>\u001B[0;34m\u001B[0m\n\u001B[1;32m      1\u001B[0m target_reward \u001B[38;5;241m=\u001B[39m \u001B[38;5;241m-\u001B[39m\u001B[38;5;241m100\u001B[39m \u001B[38;5;66;03m# VERY LOW target\u001B[39;00m\n\u001B[1;32m      2\u001B[0m train_data \u001B[38;5;241m=\u001B[39m train_pg(target_reward\u001B[38;5;241m=\u001B[39mtarget_reward, seed\u001B[38;5;241m=\u001B[39mSEED, max_episodes\u001B[38;5;241m=\u001B[39m\u001B[38;5;241m2000\u001B[39m, running_mean_len\u001B[38;5;241m=\u001B[39m\u001B[38;5;241m10\u001B[39m)\n\u001B[0;32m----> 4\u001B[0m \u001B[43mtest\u001B[49m\u001B[38;5;241;43m.\u001B[39;49m\u001B[43massertGreater\u001B[49m\u001B[43m(\u001B[49m\u001B[43mtrain_data\u001B[49m\u001B[43m[\u001B[49m\u001B[38;5;124;43m'\u001B[39;49m\u001B[38;5;124;43mmean_reward\u001B[39;49m\u001B[38;5;124;43m'\u001B[39;49m\u001B[43m]\u001B[49m\u001B[43m[\u001B[49m\u001B[38;5;241;43m-\u001B[39;49m\u001B[38;5;241;43m1\u001B[39;49m\u001B[43m]\u001B[49m\u001B[43m,\u001B[49m\u001B[43m \u001B[49m\u001B[43mtarget_reward\u001B[49m\u001B[43m)\u001B[49m\n",
      "File \u001B[0;32m~/opt/anaconda3/envs/cs236781-hw4/lib/python3.8/unittest/case.py:1310\u001B[0m, in \u001B[0;36mTestCase.assertGreater\u001B[0;34m(self, a, b, msg)\u001B[0m\n\u001B[1;32m   1308\u001B[0m \u001B[38;5;28;01mif\u001B[39;00m \u001B[38;5;129;01mnot\u001B[39;00m a \u001B[38;5;241m>\u001B[39m b:\n\u001B[1;32m   1309\u001B[0m     standardMsg \u001B[38;5;241m=\u001B[39m \u001B[38;5;124m'\u001B[39m\u001B[38;5;132;01m%s\u001B[39;00m\u001B[38;5;124m not greater than \u001B[39m\u001B[38;5;132;01m%s\u001B[39;00m\u001B[38;5;124m'\u001B[39m \u001B[38;5;241m%\u001B[39m (safe_repr(a), safe_repr(b))\n\u001B[0;32m-> 1310\u001B[0m     \u001B[38;5;28;43mself\u001B[39;49m\u001B[38;5;241;43m.\u001B[39;49m\u001B[43mfail\u001B[49m\u001B[43m(\u001B[49m\u001B[38;5;28;43mself\u001B[39;49m\u001B[38;5;241;43m.\u001B[39;49m\u001B[43m_formatMessage\u001B[49m\u001B[43m(\u001B[49m\u001B[43mmsg\u001B[49m\u001B[43m,\u001B[49m\u001B[43m \u001B[49m\u001B[43mstandardMsg\u001B[49m\u001B[43m)\u001B[49m\u001B[43m)\u001B[49m\n",
      "File \u001B[0;32m~/opt/anaconda3/envs/cs236781-hw4/lib/python3.8/unittest/case.py:753\u001B[0m, in \u001B[0;36mTestCase.fail\u001B[0;34m(self, msg)\u001B[0m\n\u001B[1;32m    751\u001B[0m \u001B[38;5;28;01mdef\u001B[39;00m \u001B[38;5;21mfail\u001B[39m(\u001B[38;5;28mself\u001B[39m, msg\u001B[38;5;241m=\u001B[39m\u001B[38;5;28;01mNone\u001B[39;00m):\n\u001B[1;32m    752\u001B[0m     \u001B[38;5;124;03m\"\"\"Fail immediately, with the given message.\"\"\"\u001B[39;00m\n\u001B[0;32m--> 753\u001B[0m     \u001B[38;5;28;01mraise\u001B[39;00m \u001B[38;5;28mself\u001B[39m\u001B[38;5;241m.\u001B[39mfailureException(msg)\n",
      "\u001B[0;31mAssertionError\u001B[0m: -178.40036 not greater than -100"
     ]
    }
   ],
   "source": [
    "target_reward = -100 # VERY LOW target\n",
    "train_data = train_pg(target_reward=target_reward, seed=SEED, max_episodes=2000, running_mean_len=10)\n",
    "\n",
    "test.assertGreater(train_data['mean_reward'][-1], target_reward)"
   ]
  },
  {
   "cell_type": "markdown",
   "metadata": {},
   "source": [
    "### Experimenting with different losses"
   ]
  },
  {
   "cell_type": "markdown",
   "metadata": {},
   "source": [
    "We'll now run a few experiments to see the effect of diferent loss functions on the training dynamics. Namely, we'll try:\n",
    "1. Vanilla PG (`vpg`): No baseline, no entropy\n",
    "2. Baseline PG (`bpg`): Baseline, no entropy loss\n",
    "3. Entropy PG (`epg`): No baseline, with entropy loss\n",
    "3. Combined PG (`cpg`): Baseline, with entropy loss"
   ]
  },
  {
   "cell_type": "code",
   "execution_count": null,
   "metadata": {
    "execution": {
     "iopub.execute_input": "2022-01-18T10:22:35.266492Z",
     "iopub.status.busy": "2022-01-18T10:22:35.265924Z",
     "iopub.status.idle": "2022-01-18T10:22:35.474289Z",
     "shell.execute_reply": "2022-01-18T10:22:35.474694Z"
    }
   },
   "outputs": [],
   "source": [
    "from collections import namedtuple\n",
    "from pprint import pprint\n",
    "import itertools as it\n",
    "\n",
    "\n",
    "ExpConfig = namedtuple('ExpConfig', ('name','baseline','entropy'))\n",
    "\n",
    "def exp_configs():\n",
    "    exp_names = ('vpg', 'epg', 'bpg', 'cpg')\n",
    "    z = zip(exp_names, it.product((False, True), (False, True)))\n",
    "    return (ExpConfig(n, b, e) for (n, (b, e)) in z)\n",
    "\n",
    "pprint(list(exp_configs()))"
   ]
  },
  {
   "cell_type": "markdown",
   "metadata": {},
   "source": [
    "We'll save the training data from each experiment for plotting."
   ]
  },
  {
   "cell_type": "code",
   "execution_count": null,
   "metadata": {
    "execution": {
     "iopub.execute_input": "2022-01-18T10:22:35.479827Z",
     "iopub.status.busy": "2022-01-18T10:22:35.478733Z",
     "iopub.status.idle": "2022-01-18T10:22:35.503254Z",
     "shell.execute_reply": "2022-01-18T10:22:35.502834Z"
    }
   },
   "outputs": [],
   "source": [
    "import pickle\n",
    "\n",
    "def dump_training_data(data, filename):\n",
    "    os.makedirs(os.path.dirname(filename), exist_ok=True)\n",
    "    with open(filename, mode='wb') as file:\n",
    "        pickle.dump(data, file)\n",
    "        \n",
    "def load_training_data(filename):\n",
    "    with open(filename, mode='rb') as file:\n",
    "        return pickle.load(file)"
   ]
  },
  {
   "cell_type": "markdown",
   "metadata": {},
   "source": [
    "Let's run the experiments! We'll run each configuration for a fixed number of episodes so that we can compare them.\n",
    "\n",
    "Notes:\n",
    "1. Until your models start working, you can decrease the number of episodes for each experiment, or only run one experiment.\n",
    "2.  The results will be saved in a file. To re-run the experiments, you can set `force_run` to `True`."
   ]
  },
  {
   "cell_type": "code",
   "execution_count": null,
   "metadata": {
    "execution": {
     "iopub.execute_input": "2022-01-18T10:22:35.508776Z",
     "iopub.status.busy": "2022-01-18T10:22:35.507513Z",
     "iopub.status.idle": "2022-01-18T10:22:35.535526Z",
     "shell.execute_reply": "2022-01-18T10:22:35.535929Z"
    }
   },
   "outputs": [],
   "source": [
    "import math\n",
    "\n",
    "exp_max_episodes = 4000\n",
    "\n",
    "results = {}\n",
    "training_data_filename = os.path.join('results', f'part1_exp.dat')\n",
    "\n",
    "# Set to True to force re-run (careful! will delete old experiment results)\n",
    "force_run = False\n",
    "\n",
    "# Skip running if results file exists.\n",
    "if os.path.isfile(training_data_filename) and not force_run:\n",
    "    print(f'=== results file {training_data_filename} exists, skipping experiments.')\n",
    "    results = load_training_data(training_data_filename)\n",
    "    \n",
    "else:\n",
    "    for n, b, e in exp_configs():\n",
    "        print(f'=== Experiment {n}')\n",
    "        results[n] = train_pg(baseline=b, entropy=e, max_episodes=exp_max_episodes, post_batch_fn=None)\n",
    "        \n",
    "    dump_training_data(results, training_data_filename)"
   ]
  },
  {
   "cell_type": "code",
   "execution_count": null,
   "metadata": {
    "execution": {
     "iopub.execute_input": "2022-01-18T10:22:35.541685Z",
     "iopub.status.busy": "2022-01-18T10:22:35.540832Z",
     "iopub.status.idle": "2022-01-18T10:22:36.402314Z",
     "shell.execute_reply": "2022-01-18T10:22:36.401870Z"
    }
   },
   "outputs": [],
   "source": [
    "def plot_experiment_results(results, fig=None):\n",
    "    if fig is None:\n",
    "        fig, _ = plt.subplots(nrows=2, ncols=2, sharex=True, figsize=(18,12))\n",
    "    for i, plot_type in enumerate(('loss_p', 'baseline', 'loss_e', 'mean_reward')):\n",
    "        ax = fig.axes[i]\n",
    "        for exp_name, exp_res in results.items():\n",
    "            if plot_type not in exp_res:\n",
    "                continue\n",
    "            ax.plot(exp_res['episode_num'], exp_res[plot_type], label=exp_name)\n",
    "        ax.set_title(plot_type)\n",
    "        ax.set_xlabel('episode')\n",
    "        ax.legend()\n",
    "    return fig\n",
    "    \n",
    "experiments_results_fig = plot_experiment_results(results)"
   ]
  },
  {
   "cell_type": "markdown",
   "metadata": {},
   "source": [
    "You should see positive training dynamics in the graphs (reward going up).\n",
    "If you don't, use them to further update your model or hyperparams.\n",
    "\n",
    "To pass the test, you'll need to get a best total mean reward of at least 10 in the fixed number of epochs using the combined loss.\n",
    "It's possible to get much higher (over 100)."
   ]
  },
  {
   "cell_type": "code",
   "execution_count": null,
   "metadata": {
    "execution": {
     "iopub.execute_input": "2022-01-18T10:22:36.405955Z",
     "iopub.status.busy": "2022-01-18T10:22:36.405452Z",
     "iopub.status.idle": "2022-01-18T10:22:36.430762Z",
     "shell.execute_reply": "2022-01-18T10:22:36.430350Z"
    }
   },
   "outputs": [],
   "source": [
    "best_cpg_mean_reward = max(results['cpg']['mean_reward'])\n",
    "print(f'Best CPG mean reward: {best_cpg_mean_reward:.2f}')\n",
    "\n",
    "test.assertGreater(best_cpg_mean_reward, 10)"
   ]
  },
  {
   "cell_type": "markdown",
   "metadata": {},
   "source": [
    "Now let's take a look at a gameplay video of our `cpg` model after the short training!"
   ]
  },
  {
   "cell_type": "code",
   "execution_count": null,
   "metadata": {
    "execution": {
     "iopub.execute_input": "2022-01-18T10:22:36.435478Z",
     "iopub.status.busy": "2022-01-18T10:22:36.434442Z",
     "iopub.status.idle": "2022-01-18T10:22:41.781602Z",
     "shell.execute_reply": "2022-01-18T10:22:41.781983Z"
    }
   },
   "outputs": [],
   "source": [
    "hp = hw4.answers.part1_pg_hyperparams()\n",
    "p_net_cpg = hw4pg.PolicyNet.build_for_env(env, **hp)\n",
    "p_net_cpg.load_state_dict(results['cpg']['model_state'])\n",
    "\n",
    "env, n_steps, reward = hw4pg.PolicyAgent.monitor_episode(ENV_NAME, p_net_cpg)\n",
    "print(f'{n_steps} steps, total reward: {reward:.2f}')\n",
    "show_monitor_video(env)"
   ]
  },
  {
   "cell_type": "markdown",
   "metadata": {},
   "source": [
    "## Advantage Actor-Critic (AAC)\n",
    "<a id=part1_2></a>"
   ]
  },
  {
   "cell_type": "markdown",
   "metadata": {},
   "source": [
    "We have seen that the policy-gradient loss can be interpreted as a log-likelihood of the policy term\n",
    "(selecting a specific action at a specific state), weighted by the future rewards of that choice of action.\n",
    "\n",
    "However, naïvely weighting by rewards has significant drawbacks in terms of the variance of the resulting gradient.\n",
    "We addressed this by adding a simple baseline term which represented our \"expected reward\" so that we increase probability of actions\n",
    "leading to trajectories which exceed this expectation and vice-versa.\n",
    "\n",
    "In this part we'll explore a more powerful baseline, which is the idea behind the AAC method."
   ]
  },
  {
   "cell_type": "markdown",
   "metadata": {},
   "source": [
    "### The advantage function"
   ]
  },
  {
   "cell_type": "markdown",
   "metadata": {},
   "source": [
    "Recall the definition of the state-value function $v_{\\pi}(s)$ and action-value function $q_{\\pi}(s,a)$:\n",
    "\n",
    "$\n",
    "\\begin{align}\n",
    "v_{\\pi}(s) &= \\E{g(\\tau)|s_0 = s,\\pi} \\\\\n",
    "q_{\\pi}(s,a) &= \\E{g(\\tau)|s_0 = s,a_0=a,\\pi}.\n",
    "\\end{align}\n",
    "$\n",
    "\n",
    "Both these functions represent the value of the state $s$. However, $v_\\pi$ averages over the first action according to the policy,\n",
    "while $q_\\pi$ fixes the first action and then continues according to the policy."
   ]
  },
  {
   "cell_type": "markdown",
   "metadata": {},
   "source": [
    "Their difference is known as the **advantage function**:\n",
    "$\n",
    "a_\\pi(s,a) = q_\\pi(s,a)-v_\\pi(s).\n",
    "$\n",
    "\n",
    "If $a_\\pi(s,a)>0$ it means that it's better (in expectation) to take action $a$ in state $s$ compared to the average action.\n",
    "In other words, $a_\\pi(s,a)$ represents the *advantage* of using action $a$ in state $s$ compared to the others."
   ]
  },
  {
   "cell_type": "markdown",
   "metadata": {},
   "source": [
    "So far we have used an estimate for $q_\\pi$ as our weighting term for the log-policy, with a fixed baseline per batch.\n",
    "\n",
    "$\\hat\\grad\\mathcal{L}_{\\text{BPG}}(\\vec{\\theta})=-\\frac{1}{N}\\sum_{i=1}^{N}\\sum_{t\\geq0} \\left(\\hat{q}_{i,t}-b\\right) \\grad\\log \\pi_{\\vec{\\theta}}(a_{i,t}|s_{i,t}).$\n"
   ]
  },
  {
   "cell_type": "markdown",
   "metadata": {},
   "source": [
    "Now, we will use the state value as a baseline, so that an estimate of the advantage function is our weighting term:\n",
    "\n",
    "$\\hat\\grad\\mathcal{L}_{\\text{AAC}}(\\vec{\\theta})=-\\frac{1}{N}\\sum_{i=1}^{N}\\sum_{t\\geq0} \\left(\\hat{q}_{i,t}-v_\\pi(s_t)\\right) \\grad\\log \\pi_{\\vec{\\theta}}(a_{i,t}|s_{i,t}).$\n",
    "\n",
    "Intuitively, using the advantage function makes sense because it means we're weighting our policy's actions according to\n",
    "how advantageous they are compared to other possible actions."
   ]
  },
  {
   "cell_type": "markdown",
   "metadata": {},
   "source": [
    "But how will we know $v_\\pi(s)$? We'll learn it of course, using another neural network.\n",
    "This is known as actor-critic learning. We simultaneously learn the policy (actor) and the value of states (critic).\n",
    "We'll treat it as a regression task: given a state $s_t$, our state-value network will output $\\hat{v}_\\pi(s_t)$,\n",
    "an estimate of the actual unknown state-value.\n",
    "Our regression targets will be the discounted rewards, $\\hat{q}_{i,t}$ (see question 2),\n",
    "and we can use a simple MSE as the loss function,\n",
    "$\\mathcal{L}_{\\text{SV}} = \\frac{1}{N}\\sum_{i=1}^{N}\\sum_{t\\geq0}\\left(\\hat{v}_\\pi(s_t) - \\hat{q}_{i,t}\\right)^2.$\n"
   ]
  },
  {
   "cell_type": "markdown",
   "metadata": {},
   "source": [
    "### Implementation"
   ]
  },
  {
   "cell_type": "markdown",
   "metadata": {},
   "source": [
    "We'll build heavily on our implementation of the regular policy-gradient method, and just add a new model class and a new loss class, with a small modification to the agent."
   ]
  },
  {
   "cell_type": "markdown",
   "metadata": {},
   "source": [
    "Let's start with the model. It will accept a state, and return action scores (as before), but also the value of that state.\n",
    "You can experiment with a dual-head network that has a shared base, or implement two separate parts within the network.\n",
    "\n",
    "**TODO**:\n",
    "1. Implement the model as the `AACPolicyNet` class in the `hw4/rl_ac.py` module.\n",
    "1. Set the hyperparameters in the `part1_aac_hyperparams()` function of the `hw4.answers` module."
   ]
  },
  {
   "cell_type": "code",
   "execution_count": null,
   "metadata": {
    "execution": {
     "iopub.execute_input": "2022-01-18T10:22:41.787450Z",
     "iopub.status.busy": "2022-01-18T10:22:41.786433Z",
     "iopub.status.idle": "2022-01-18T10:22:42.023641Z",
     "shell.execute_reply": "2022-01-18T10:22:42.024019Z"
    }
   },
   "outputs": [],
   "source": [
    "import hw4.rl_ac as hw4ac\n",
    "\n",
    "hp = hw4.answers.part1_aac_hyperparams()\n",
    "pv_net = hw4ac.AACPolicyNet.build_for_env(env, device, **hp)\n",
    "pv_net"
   ]
  },
  {
   "cell_type": "markdown",
   "metadata": {},
   "source": [
    "**TODO**: Complete the implementation of the agent class, `AACPolicyAgent`, in the `hw4/rl_ac.py` module."
   ]
  },
  {
   "cell_type": "code",
   "execution_count": null,
   "metadata": {
    "execution": {
     "iopub.execute_input": "2022-01-18T10:22:42.028246Z",
     "iopub.status.busy": "2022-01-18T10:22:42.027471Z",
     "iopub.status.idle": "2022-01-18T10:22:42.056848Z",
     "shell.execute_reply": "2022-01-18T10:22:42.056415Z"
    }
   },
   "outputs": [],
   "source": [
    "agent = hw4ac.AACPolicyAgent(env, pv_net, device)\n",
    "exp = agent.step()\n",
    "\n",
    "test.assertIsInstance(exp, hw4pg.Experience)\n",
    "print(exp)"
   ]
  },
  {
   "cell_type": "markdown",
   "metadata": {},
   "source": [
    "**TODO**: Implement the AAC loss function as the class `AACPolicyGradientLoss` in the `hw4/rl_ac.py` module."
   ]
  },
  {
   "cell_type": "code",
   "execution_count": null,
   "metadata": {
    "execution": {
     "iopub.execute_input": "2022-01-18T10:22:42.063254Z",
     "iopub.status.busy": "2022-01-18T10:22:42.062457Z",
     "iopub.status.idle": "2022-01-18T10:22:42.105992Z",
     "shell.execute_reply": "2022-01-18T10:22:42.105239Z"
    }
   },
   "outputs": [],
   "source": [
    "loss_fn_aac = hw4ac.AACPolicyGradientLoss(delta=1.)\n",
    "test_state_values = torch.ones(test_action_scores.shape[0], 1)\n",
    "loss_t, loss_dict = loss_fn_aac(test_batch, (test_action_scores, test_state_values))\n",
    "\n",
    "print(f'{loss_dict=}')\n",
    "test.assertAlmostEqual(loss_dict['adv_m'], -30.841, delta=1e-2)\n",
    "test.assertAlmostEqual(loss_t.item(), 1466.830, delta=1e-2)"
   ]
  },
  {
   "cell_type": "markdown",
   "metadata": {},
   "source": [
    "### Experimentation"
   ]
  },
  {
   "cell_type": "markdown",
   "metadata": {},
   "source": [
    "Let's run the same experiment as before, but with the AAC method and compare the results."
   ]
  },
  {
   "cell_type": "code",
   "execution_count": null,
   "metadata": {
    "execution": {
     "iopub.execute_input": "2022-01-18T10:22:42.113401Z",
     "iopub.status.busy": "2022-01-18T10:22:42.112108Z",
     "iopub.status.idle": "2022-01-18T10:22:42.154777Z",
     "shell.execute_reply": "2022-01-18T10:22:42.155936Z"
    }
   },
   "outputs": [],
   "source": [
    "def train_aac(baseline=False, entropy=False, **train_kwargs):\n",
    "    hp = hw4.answers.part1_aac_hyperparams()\n",
    "    loss_fns = [hw4ac.AACPolicyGradientLoss(hp['delta']), hw4pg.ActionEntropyLoss(ENV_N_ACTIONS, hp['beta'])]\n",
    "    return train_rl(hw4ac.AACPolicyAgent, hw4ac.AACPolicyNet, loss_fns, hp, **train_kwargs)"
   ]
  },
  {
   "cell_type": "code",
   "execution_count": null,
   "metadata": {
    "execution": {
     "iopub.execute_input": "2022-01-18T10:22:42.161332Z",
     "iopub.status.busy": "2022-01-18T10:22:42.159638Z",
     "iopub.status.idle": "2022-01-18T10:22:42.210983Z",
     "shell.execute_reply": "2022-01-18T10:22:42.212129Z"
    }
   },
   "outputs": [],
   "source": [
    "training_data_filename = os.path.join('results', f'part1_exp_aac.dat')\n",
    "\n",
    "# Set to True to force re-run (careful, will delete old experiment results)\n",
    "force_run = False\n",
    "\n",
    "if os.path.isfile(training_data_filename) and not force_run:\n",
    "    print(f'=== results file {training_data_filename} exists, skipping experiments.')\n",
    "    results_aac = load_training_data(training_data_filename)\n",
    "    \n",
    "else:\n",
    "    print(f'=== Running AAC experiment')\n",
    "    training_data = train_aac(max_episodes=exp_max_episodes)\n",
    "    results_aac = dict(aac=training_data)\n",
    "    dump_training_data(results_aac, training_data_filename)"
   ]
  },
  {
   "cell_type": "code",
   "execution_count": null,
   "metadata": {
    "execution": {
     "iopub.execute_input": "2022-01-18T10:22:42.217391Z",
     "iopub.status.busy": "2022-01-18T10:22:42.215697Z",
     "iopub.status.idle": "2022-01-18T10:22:43.074046Z",
     "shell.execute_reply": "2022-01-18T10:22:43.073627Z"
    }
   },
   "outputs": [],
   "source": [
    "experiments_results_fig = plot_experiment_results(results)\n",
    "plot_experiment_results(results_aac, fig=experiments_results_fig);"
   ]
  },
  {
   "cell_type": "markdown",
   "metadata": {},
   "source": [
    "You should get better results with the AAC method, so this time the bar is higher (again, you should aim for a mean reward of 100+).\n",
    "Compare the graphs with combined PG method and see if they make sense."
   ]
  },
  {
   "cell_type": "code",
   "execution_count": null,
   "metadata": {
    "execution": {
     "iopub.execute_input": "2022-01-18T10:22:43.077997Z",
     "iopub.status.busy": "2022-01-18T10:22:43.077122Z",
     "iopub.status.idle": "2022-01-18T10:22:43.115285Z",
     "shell.execute_reply": "2022-01-18T10:22:43.115660Z"
    }
   },
   "outputs": [],
   "source": [
    "best_aac_mean_reward = max(results_aac['aac']['mean_reward'])\n",
    "print(f'Best AAC mean reward: {best_aac_mean_reward:.2f}')\n",
    "\n",
    "test.assertGreater(best_aac_mean_reward, 50)"
   ]
  },
  {
   "cell_type": "markdown",
   "metadata": {},
   "source": [
    "### Final model training and visualization"
   ]
  },
  {
   "cell_type": "markdown",
   "metadata": {},
   "source": [
    "Now, using your best model and hyperparams, let's train model for much longer and see the performance.\n",
    "Just for fun, we'll also visualize an episode every now and then so that we can see how well the agent is playing."
   ]
  },
  {
   "cell_type": "markdown",
   "metadata": {},
   "source": [
    "**TODO**:\n",
    "- Run the following block to train.\n",
    "- Tweak model or hyperparams as necessary.\n",
    "- Aim for high mean reward, at least 150+. It's possible to get over 200.\n",
    "- When training is done and you're satisfied with the model's outputs, rename the checkpoint file by adding `_final` to the file name.\n",
    "  This will cause the block to skip training and instead load your saved model when running the homework submission script.\n",
    "  Note that your submission zip file will not include the checkpoint file. This is OK."
   ]
  },
  {
   "cell_type": "code",
   "execution_count": null,
   "metadata": {
    "execution": {
     "iopub.execute_input": "2022-01-18T10:22:43.125135Z",
     "iopub.status.busy": "2022-01-18T10:22:43.123960Z",
     "iopub.status.idle": "2022-01-18T10:22:47.363573Z",
     "shell.execute_reply": "2022-01-18T10:22:47.363958Z"
    }
   },
   "outputs": [],
   "source": [
    "import IPython.display\n",
    "\n",
    "CHECKPOINTS_FILE = f'checkpoints/{ENV_NAME}-ac.dat'\n",
    "CHECKPOINTS_FILE_FINAL = f'checkpoints/{ENV_NAME}-ac_final.dat'\n",
    "TARGET_REWARD = 125\n",
    "MAX_EPISODES = 15_000\n",
    "\n",
    "def post_batch_fn(batch_idx, p_net, batch, print_every=20, final=False):\n",
    "    if not final and batch_idx % print_every != 0:\n",
    "        return\n",
    "    env, n_steps, reward = hw4ac.AACPolicyAgent.monitor_episode(ENV_NAME, p_net)\n",
    "    html = show_monitor_video(env, width=\"500\")\n",
    "    IPython.display.clear_output(wait=True)\n",
    "    print(f'Monitor@#{batch_idx}: n_steps={n_steps}, total_reward={reward:.3f}, final={final}')\n",
    "    IPython.display.display_html(html)\n",
    "    \n",
    "    \n",
    "if os.path.isfile(CHECKPOINTS_FILE_FINAL):\n",
    "    print(f'=== {CHECKPOINTS_FILE_FINAL} exists, skipping training...')\n",
    "    checkpoint_data = torch.load(CHECKPOINTS_FILE_FINAL)\n",
    "    hp = hw4.answers.part1_aac_hyperparams()\n",
    "    pv_net = hw4ac.AACPolicyNet.build_for_env(env, **hp)\n",
    "    pv_net.load_state_dict(checkpoint_data['params'])\n",
    "    print(f'=== Running best model...')\n",
    "    env, n_steps, reward = hw4ac.AACPolicyAgent.monitor_episode(ENV_NAME, pv_net)\n",
    "    print(f'=== Best model ran for {n_steps} steps. Total reward: {reward:.2f}')\n",
    "    IPython.display.display_html(show_monitor_video(env))\n",
    "    best_mean_reward = checkpoint_data[\"best_mean_reward\"]\n",
    "else:\n",
    "    print(f'=== Starting training...')\n",
    "    train_data = train_aac(TARGET_REWARD, max_episodes=MAX_EPISODES,\n",
    "                           seed=None, checkpoints_file=CHECKPOINTS_FILE, post_batch_fn=post_batch_fn)\n",
    "    print(f'=== Done, ', end='')\n",
    "    best_mean_reward = train_data[\"best_mean_reward\"][-1]\n",
    "    print(f'num_episodes={train_data[\"episode_num\"][-1]}, best_mean_reward={best_mean_reward:.1f}')\n",
    "          \n",
    "test.assertGreaterEqual(best_mean_reward, TARGET_REWARD)"
   ]
  },
  {
   "cell_type": "markdown",
   "metadata": {
    "tags": []
   },
   "source": [
    "## Questions\n",
    "<a id=part1_3></a>"
   ]
  },
  {
   "cell_type": "markdown",
   "metadata": {},
   "source": [
    "**TODO**: Answer the following questions. Write your answers in the appropriate variables in the module `hw4/answers.py`."
   ]
  },
  {
   "cell_type": "code",
   "execution_count": null,
   "metadata": {
    "execution": {
     "iopub.execute_input": "2022-01-18T10:22:47.368956Z",
     "iopub.status.busy": "2022-01-18T10:22:47.367842Z",
     "iopub.status.idle": "2022-01-18T10:22:47.400356Z",
     "shell.execute_reply": "2022-01-18T10:22:47.399959Z"
    }
   },
   "outputs": [],
   "source": [
    "from cs236781.answers import display_answer\n",
    "import hw4.answers"
   ]
  },
  {
   "cell_type": "markdown",
   "metadata": {},
   "source": [
    "### Question 1\n",
    "\n",
    "Explain qualitatively why subtracting a baseline in the policy-gradient helps reduce it's variance.\n",
    "Specifically, give an example where it helps."
   ]
  },
  {
   "cell_type": "code",
   "execution_count": null,
   "metadata": {
    "execution": {
     "iopub.execute_input": "2022-01-18T10:22:47.404210Z",
     "iopub.status.busy": "2022-01-18T10:22:47.403430Z",
     "iopub.status.idle": "2022-01-18T10:22:47.425848Z",
     "shell.execute_reply": "2022-01-18T10:22:47.426224Z"
    }
   },
   "outputs": [],
   "source": [
    "display_answer(hw4.answers.part1_q1)"
   ]
  },
  {
   "cell_type": "markdown",
   "metadata": {},
   "source": [
    "### Question 2\n",
    "\n",
    "In AAC, when using the estimated q-values as regression targets for our state-values, why do we get a valid approximation?\n",
    "Hint: how is $v_\\pi(s)$ expressed in terms of $q_\\pi(s,a)$?"
   ]
  },
  {
   "cell_type": "code",
   "execution_count": null,
   "metadata": {
    "execution": {
     "iopub.execute_input": "2022-01-18T10:22:47.429988Z",
     "iopub.status.busy": "2022-01-18T10:22:47.429208Z",
     "iopub.status.idle": "2022-01-18T10:22:47.450702Z",
     "shell.execute_reply": "2022-01-18T10:22:47.451082Z"
    }
   },
   "outputs": [],
   "source": [
    "display_answer(hw4.answers.part1_q2)"
   ]
  },
  {
   "cell_type": "markdown",
   "metadata": {},
   "source": [
    "### Question 3\n",
    "\n",
    "1. Analyze and explain the graphs you got in first experiment run.\n",
    "2. Compare the experiment graphs you got with the AAC method to the regular PG method (`cpg`)."
   ]
  },
  {
   "cell_type": "code",
   "execution_count": null,
   "metadata": {
    "execution": {
     "iopub.execute_input": "2022-01-18T10:22:47.454864Z",
     "iopub.status.busy": "2022-01-18T10:22:47.454079Z",
     "iopub.status.idle": "2022-01-18T10:22:47.475698Z",
     "shell.execute_reply": "2022-01-18T10:22:47.476075Z"
    },
    "tags": []
   },
   "outputs": [],
   "source": [
    "display_answer(hw4.answers.part1_q3)"
   ]
  }
 ],
 "metadata": {
  "kernelspec": {
   "display_name": "Python 3 (ipykernel)",
   "language": "python",
   "name": "python3"
  },
  "language_info": {
   "codemirror_mode": {
    "name": "ipython",
    "version": 3
   },
   "file_extension": ".py",
   "mimetype": "text/x-python",
   "name": "python",
   "nbconvert_exporter": "python",
   "pygments_lexer": "ipython3",
   "version": "3.8.12"
  }
 },
 "nbformat": 4,
 "nbformat_minor": 4
}